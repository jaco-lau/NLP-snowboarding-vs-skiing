{
 "cells": [
  {
   "cell_type": "code",
   "execution_count": 1,
   "metadata": {},
   "outputs": [],
   "source": [
    "import pandas as pd\n",
    "import matplotlib.pyplot as plt\n",
    "\n",
    "from functions import (get_comments_df,freq_table,clean_column,puncless_column,\n",
    "                       remove_single_letter_column,cvec_df,remove_duplicates,\n",
    "                       ski_and_sb_stopword_list,p_stem_column,sentiment_analyzer,\n",
    "                       pipeline_sentiment)"
   ]
  },
  {
   "cell_type": "markdown",
   "metadata": {},
   "source": [
    "## 10000 comments"
   ]
  },
  {
   "cell_type": "markdown",
   "metadata": {},
   "source": [
    "Orignial code to pull 10000 comments.  Turned it into a dataframe and saved it so that I wouldn't be working with a new set of comments everytime I reset my kernel.\\\n",
    "**sb_v_ski = get_comments_df(10000,'snowboarding','skiing')**\\\n",
    "**sb_v_ski.to_csv('./data/all_comment_data_10000.csv')**"
   ]
  },
  {
   "cell_type": "code",
   "execution_count": 2,
   "metadata": {},
   "outputs": [
    {
     "data": {
      "text/html": [
       "<div>\n",
       "<style scoped>\n",
       "    .dataframe tbody tr th:only-of-type {\n",
       "        vertical-align: middle;\n",
       "    }\n",
       "\n",
       "    .dataframe tbody tr th {\n",
       "        vertical-align: top;\n",
       "    }\n",
       "\n",
       "    .dataframe thead th {\n",
       "        text-align: right;\n",
       "    }\n",
       "</style>\n",
       "<table border=\"1\" class=\"dataframe\">\n",
       "  <thead>\n",
       "    <tr style=\"text-align: right;\">\n",
       "      <th></th>\n",
       "      <th>comments</th>\n",
       "      <th>ski or sb</th>\n",
       "    </tr>\n",
       "  </thead>\n",
       "  <tbody>\n",
       "    <tr>\n",
       "      <th>0</th>\n",
       "      <td>I think most people just prefer spinning to th...</td>\n",
       "      <td>1</td>\n",
       "    </tr>\n",
       "    <tr>\n",
       "      <th>1</th>\n",
       "      <td>They've all blown out their ACL and MCL multip...</td>\n",
       "      <td>1</td>\n",
       "    </tr>\n",
       "    <tr>\n",
       "      <th>2</th>\n",
       "      <td>L1 has some really good gloves</td>\n",
       "      <td>1</td>\n",
       "    </tr>\n",
       "    <tr>\n",
       "      <th>3</th>\n",
       "      <td>I have a leather pigskin kinco mitten for the ...</td>\n",
       "      <td>1</td>\n",
       "    </tr>\n",
       "    <tr>\n",
       "      <th>4</th>\n",
       "      <td>Alaska is next on the agenda!</td>\n",
       "      <td>1</td>\n",
       "    </tr>\n",
       "  </tbody>\n",
       "</table>\n",
       "</div>"
      ],
      "text/plain": [
       "                                            comments  ski or sb\n",
       "0  I think most people just prefer spinning to th...          1\n",
       "1  They've all blown out their ACL and MCL multip...          1\n",
       "2                     L1 has some really good gloves          1\n",
       "3  I have a leather pigskin kinco mitten for the ...          1\n",
       "4                      Alaska is next on the agenda!          1"
      ]
     },
     "execution_count": 2,
     "metadata": {},
     "output_type": "execute_result"
    }
   ],
   "source": [
    "# importing and reading dataframe with comments (1 = snowboarding, 0 = skiing)\n",
    "sb_v_ski_10000 = pd.read_csv('./data/all_comment_data_10000.csv',index_col = 0)\n",
    "sb_v_ski_10000.head()"
   ]
  },
  {
   "cell_type": "markdown",
   "metadata": {},
   "source": [
    "## Comment Cleaning"
   ]
  },
  {
   "cell_type": "code",
   "execution_count": 3,
   "metadata": {},
   "outputs": [
    {
     "data": {
      "text/html": [
       "<div>\n",
       "<style scoped>\n",
       "    .dataframe tbody tr th:only-of-type {\n",
       "        vertical-align: middle;\n",
       "    }\n",
       "\n",
       "    .dataframe tbody tr th {\n",
       "        vertical-align: top;\n",
       "    }\n",
       "\n",
       "    .dataframe thead th {\n",
       "        text-align: right;\n",
       "    }\n",
       "</style>\n",
       "<table border=\"1\" class=\"dataframe\">\n",
       "  <thead>\n",
       "    <tr style=\"text-align: right;\">\n",
       "      <th></th>\n",
       "      <th>comments</th>\n",
       "      <th>ski or sb</th>\n",
       "      <th>no punctuation comments</th>\n",
       "    </tr>\n",
       "  </thead>\n",
       "  <tbody>\n",
       "    <tr>\n",
       "      <th>0</th>\n",
       "      <td>I think most people just prefer spinning to th...</td>\n",
       "      <td>1</td>\n",
       "      <td>i think most people just prefer spinning to th...</td>\n",
       "    </tr>\n",
       "    <tr>\n",
       "      <th>1</th>\n",
       "      <td>They've all blown out their ACL and MCL multip...</td>\n",
       "      <td>1</td>\n",
       "      <td>they ve all blown out their acl and mcl multip...</td>\n",
       "    </tr>\n",
       "    <tr>\n",
       "      <th>2</th>\n",
       "      <td>L1 has some really good gloves</td>\n",
       "      <td>1</td>\n",
       "      <td>l1 has some really good gloves</td>\n",
       "    </tr>\n",
       "    <tr>\n",
       "      <th>3</th>\n",
       "      <td>I have a leather pigskin kinco mitten for the ...</td>\n",
       "      <td>1</td>\n",
       "      <td>i have a leather pigskin kinco mitten for the ...</td>\n",
       "    </tr>\n",
       "    <tr>\n",
       "      <th>4</th>\n",
       "      <td>Alaska is next on the agenda!</td>\n",
       "      <td>1</td>\n",
       "      <td>alaska is next on the agenda</td>\n",
       "    </tr>\n",
       "    <tr>\n",
       "      <th>...</th>\n",
       "      <td>...</td>\n",
       "      <td>...</td>\n",
       "      <td>...</td>\n",
       "    </tr>\n",
       "    <tr>\n",
       "      <th>19995</th>\n",
       "      <td>They are both test and tried beacons and you h...</td>\n",
       "      <td>0</td>\n",
       "      <td>they are both test and tried beacons and you h...</td>\n",
       "    </tr>\n",
       "    <tr>\n",
       "      <th>19996</th>\n",
       "      <td>He is good at backflips.</td>\n",
       "      <td>0</td>\n",
       "      <td>he is good at backflips</td>\n",
       "    </tr>\n",
       "    <tr>\n",
       "      <th>19997</th>\n",
       "      <td>Well I'll be.</td>\n",
       "      <td>0</td>\n",
       "      <td>well i ll be</td>\n",
       "    </tr>\n",
       "    <tr>\n",
       "      <th>19998</th>\n",
       "      <td>Damn . Good reminder to me to break out the sk...</td>\n",
       "      <td>0</td>\n",
       "      <td>damn good reminder to me to break out the skin...</td>\n",
       "    </tr>\n",
       "    <tr>\n",
       "      <th>19999</th>\n",
       "      <td>Thank you! I like that the filter for this one...</td>\n",
       "      <td>0</td>\n",
       "      <td>thank you i like that the filter for this one ...</td>\n",
       "    </tr>\n",
       "  </tbody>\n",
       "</table>\n",
       "<p>20000 rows × 3 columns</p>\n",
       "</div>"
      ],
      "text/plain": [
       "                                                comments  ski or sb  \\\n",
       "0      I think most people just prefer spinning to th...          1   \n",
       "1      They've all blown out their ACL and MCL multip...          1   \n",
       "2                         L1 has some really good gloves          1   \n",
       "3      I have a leather pigskin kinco mitten for the ...          1   \n",
       "4                          Alaska is next on the agenda!          1   \n",
       "...                                                  ...        ...   \n",
       "19995  They are both test and tried beacons and you h...          0   \n",
       "19996                           He is good at backflips.          0   \n",
       "19997                                      Well I'll be.          0   \n",
       "19998  Damn . Good reminder to me to break out the sk...          0   \n",
       "19999  Thank you! I like that the filter for this one...          0   \n",
       "\n",
       "                                 no punctuation comments  \n",
       "0      i think most people just prefer spinning to th...  \n",
       "1      they ve all blown out their acl and mcl multip...  \n",
       "2                         l1 has some really good gloves  \n",
       "3      i have a leather pigskin kinco mitten for the ...  \n",
       "4                           alaska is next on the agenda  \n",
       "...                                                  ...  \n",
       "19995  they are both test and tried beacons and you h...  \n",
       "19996                            he is good at backflips  \n",
       "19997                                       well i ll be  \n",
       "19998  damn good reminder to me to break out the skin...  \n",
       "19999  thank you i like that the filter for this one ...  \n",
       "\n",
       "[20000 rows x 3 columns]"
      ]
     },
     "execution_count": 3,
     "metadata": {},
     "output_type": "execute_result"
    }
   ],
   "source": [
    "# remove punctuation from comments\n",
    "puncless_column(sb_v_ski_10000,'comments')"
   ]
  },
  {
   "cell_type": "code",
   "execution_count": 4,
   "metadata": {},
   "outputs": [
    {
     "data": {
      "text/html": [
       "<div>\n",
       "<style scoped>\n",
       "    .dataframe tbody tr th:only-of-type {\n",
       "        vertical-align: middle;\n",
       "    }\n",
       "\n",
       "    .dataframe tbody tr th {\n",
       "        vertical-align: top;\n",
       "    }\n",
       "\n",
       "    .dataframe thead th {\n",
       "        text-align: right;\n",
       "    }\n",
       "</style>\n",
       "<table border=\"1\" class=\"dataframe\">\n",
       "  <thead>\n",
       "    <tr style=\"text-align: right;\">\n",
       "      <th></th>\n",
       "      <th>comments</th>\n",
       "      <th>ski or sb</th>\n",
       "      <th>no punctuation comments</th>\n",
       "      <th>stopwordless comments</th>\n",
       "    </tr>\n",
       "  </thead>\n",
       "  <tbody>\n",
       "    <tr>\n",
       "      <th>0</th>\n",
       "      <td>I think most people just prefer spinning to th...</td>\n",
       "      <td>1</td>\n",
       "      <td>i think most people just prefer spinning to th...</td>\n",
       "      <td>think people prefer spinning left including go...</td>\n",
       "    </tr>\n",
       "    <tr>\n",
       "      <th>1</th>\n",
       "      <td>They've all blown out their ACL and MCL multip...</td>\n",
       "      <td>1</td>\n",
       "      <td>they ve all blown out their acl and mcl multip...</td>\n",
       "      <td>blown acl mcl multiple times mother fuckers wa...</td>\n",
       "    </tr>\n",
       "    <tr>\n",
       "      <th>2</th>\n",
       "      <td>L1 has some really good gloves</td>\n",
       "      <td>1</td>\n",
       "      <td>l1 has some really good gloves</td>\n",
       "      <td>l1 really good gloves</td>\n",
       "    </tr>\n",
       "    <tr>\n",
       "      <th>3</th>\n",
       "      <td>I have a leather pigskin kinco mitten for the ...</td>\n",
       "      <td>1</td>\n",
       "      <td>i have a leather pigskin kinco mitten for the ...</td>\n",
       "      <td>leather pigskin kinco mitten cold softshell gl...</td>\n",
       "    </tr>\n",
       "    <tr>\n",
       "      <th>4</th>\n",
       "      <td>Alaska is next on the agenda!</td>\n",
       "      <td>1</td>\n",
       "      <td>alaska is next on the agenda</td>\n",
       "      <td>alaska agenda</td>\n",
       "    </tr>\n",
       "    <tr>\n",
       "      <th>...</th>\n",
       "      <td>...</td>\n",
       "      <td>...</td>\n",
       "      <td>...</td>\n",
       "      <td>...</td>\n",
       "    </tr>\n",
       "    <tr>\n",
       "      <th>19995</th>\n",
       "      <td>They are both test and tried beacons and you h...</td>\n",
       "      <td>0</td>\n",
       "      <td>they are both test and tried beacons and you h...</td>\n",
       "      <td>test tried beacons honestly wrong pieps</td>\n",
       "    </tr>\n",
       "    <tr>\n",
       "      <th>19996</th>\n",
       "      <td>He is good at backflips.</td>\n",
       "      <td>0</td>\n",
       "      <td>he is good at backflips</td>\n",
       "      <td>good backflips</td>\n",
       "    </tr>\n",
       "    <tr>\n",
       "      <th>19997</th>\n",
       "      <td>Well I'll be.</td>\n",
       "      <td>0</td>\n",
       "      <td>well i ll be</td>\n",
       "      <td></td>\n",
       "    </tr>\n",
       "    <tr>\n",
       "      <th>19998</th>\n",
       "      <td>Damn . Good reminder to me to break out the sk...</td>\n",
       "      <td>0</td>\n",
       "      <td>damn good reminder to me to break out the skin...</td>\n",
       "      <td>damn good reminder break skins lifts need stin...</td>\n",
       "    </tr>\n",
       "    <tr>\n",
       "      <th>19999</th>\n",
       "      <td>Thank you! I like that the filter for this one...</td>\n",
       "      <td>0</td>\n",
       "      <td>thank you i like that the filter for this one ...</td>\n",
       "      <td>thank like filter longer life seen</td>\n",
       "    </tr>\n",
       "  </tbody>\n",
       "</table>\n",
       "<p>20000 rows × 4 columns</p>\n",
       "</div>"
      ],
      "text/plain": [
       "                                                comments  ski or sb  \\\n",
       "0      I think most people just prefer spinning to th...          1   \n",
       "1      They've all blown out their ACL and MCL multip...          1   \n",
       "2                         L1 has some really good gloves          1   \n",
       "3      I have a leather pigskin kinco mitten for the ...          1   \n",
       "4                          Alaska is next on the agenda!          1   \n",
       "...                                                  ...        ...   \n",
       "19995  They are both test and tried beacons and you h...          0   \n",
       "19996                           He is good at backflips.          0   \n",
       "19997                                      Well I'll be.          0   \n",
       "19998  Damn . Good reminder to me to break out the sk...          0   \n",
       "19999  Thank you! I like that the filter for this one...          0   \n",
       "\n",
       "                                 no punctuation comments  \\\n",
       "0      i think most people just prefer spinning to th...   \n",
       "1      they ve all blown out their acl and mcl multip...   \n",
       "2                         l1 has some really good gloves   \n",
       "3      i have a leather pigskin kinco mitten for the ...   \n",
       "4                           alaska is next on the agenda   \n",
       "...                                                  ...   \n",
       "19995  they are both test and tried beacons and you h...   \n",
       "19996                            he is good at backflips   \n",
       "19997                                       well i ll be   \n",
       "19998  damn good reminder to me to break out the skin...   \n",
       "19999  thank you i like that the filter for this one ...   \n",
       "\n",
       "                                   stopwordless comments  \n",
       "0      think people prefer spinning left including go...  \n",
       "1      blown acl mcl multiple times mother fuckers wa...  \n",
       "2                                  l1 really good gloves  \n",
       "3      leather pigskin kinco mitten cold softshell gl...  \n",
       "4                                          alaska agenda  \n",
       "...                                                  ...  \n",
       "19995            test tried beacons honestly wrong pieps  \n",
       "19996                                     good backflips  \n",
       "19997                                                     \n",
       "19998  damn good reminder break skins lifts need stin...  \n",
       "19999                 thank like filter longer life seen  \n",
       "\n",
       "[20000 rows x 4 columns]"
      ]
     },
     "execution_count": 4,
     "metadata": {},
     "output_type": "execute_result"
    }
   ],
   "source": [
    "# remove stopwords and words that contain anything uniquely related to skiing\n",
    "# or snowboarding\n",
    "clean_column(sb_v_ski_10000,'no punctuation comments')"
   ]
  },
  {
   "cell_type": "code",
   "execution_count": 5,
   "metadata": {
    "scrolled": true
   },
   "outputs": [
    {
     "data": {
      "text/html": [
       "<div>\n",
       "<style scoped>\n",
       "    .dataframe tbody tr th:only-of-type {\n",
       "        vertical-align: middle;\n",
       "    }\n",
       "\n",
       "    .dataframe tbody tr th {\n",
       "        vertical-align: top;\n",
       "    }\n",
       "\n",
       "    .dataframe thead th {\n",
       "        text-align: right;\n",
       "    }\n",
       "</style>\n",
       "<table border=\"1\" class=\"dataframe\">\n",
       "  <thead>\n",
       "    <tr style=\"text-align: right;\">\n",
       "      <th></th>\n",
       "      <th>comments</th>\n",
       "      <th>ski or sb</th>\n",
       "      <th>no punctuation comments</th>\n",
       "      <th>stopwordless comments</th>\n",
       "    </tr>\n",
       "  </thead>\n",
       "  <tbody>\n",
       "    <tr>\n",
       "      <th>0</th>\n",
       "      <td>I think most people just prefer spinning to th...</td>\n",
       "      <td>1</td>\n",
       "      <td>i think most people just prefer spinning to th...</td>\n",
       "      <td>think people prefer spinning left including go...</td>\n",
       "    </tr>\n",
       "    <tr>\n",
       "      <th>1</th>\n",
       "      <td>They've all blown out their ACL and MCL multip...</td>\n",
       "      <td>1</td>\n",
       "      <td>they ve all blown out their acl and mcl multip...</td>\n",
       "      <td>blown acl mcl multiple times mother fuckers wa...</td>\n",
       "    </tr>\n",
       "    <tr>\n",
       "      <th>2</th>\n",
       "      <td>L1 has some really good gloves</td>\n",
       "      <td>1</td>\n",
       "      <td>l1 has some really good gloves</td>\n",
       "      <td>l1 really good gloves</td>\n",
       "    </tr>\n",
       "    <tr>\n",
       "      <th>3</th>\n",
       "      <td>I have a leather pigskin kinco mitten for the ...</td>\n",
       "      <td>1</td>\n",
       "      <td>i have a leather pigskin kinco mitten for the ...</td>\n",
       "      <td>leather pigskin kinco mitten cold softshell gl...</td>\n",
       "    </tr>\n",
       "    <tr>\n",
       "      <th>4</th>\n",
       "      <td>Alaska is next on the agenda!</td>\n",
       "      <td>1</td>\n",
       "      <td>alaska is next on the agenda</td>\n",
       "      <td>alaska agenda</td>\n",
       "    </tr>\n",
       "    <tr>\n",
       "      <th>...</th>\n",
       "      <td>...</td>\n",
       "      <td>...</td>\n",
       "      <td>...</td>\n",
       "      <td>...</td>\n",
       "    </tr>\n",
       "    <tr>\n",
       "      <th>18994</th>\n",
       "      <td>Never said he wasn’t</td>\n",
       "      <td>0</td>\n",
       "      <td>never said he wasn t</td>\n",
       "      <td>said</td>\n",
       "    </tr>\n",
       "    <tr>\n",
       "      <th>18995</th>\n",
       "      <td>They are both test and tried beacons and you h...</td>\n",
       "      <td>0</td>\n",
       "      <td>they are both test and tried beacons and you h...</td>\n",
       "      <td>test tried beacons honestly wrong pieps</td>\n",
       "    </tr>\n",
       "    <tr>\n",
       "      <th>18996</th>\n",
       "      <td>He is good at backflips.</td>\n",
       "      <td>0</td>\n",
       "      <td>he is good at backflips</td>\n",
       "      <td>good backflips</td>\n",
       "    </tr>\n",
       "    <tr>\n",
       "      <th>18997</th>\n",
       "      <td>Damn . Good reminder to me to break out the sk...</td>\n",
       "      <td>0</td>\n",
       "      <td>damn good reminder to me to break out the skin...</td>\n",
       "      <td>damn good reminder break skins lifts need stin...</td>\n",
       "    </tr>\n",
       "    <tr>\n",
       "      <th>18998</th>\n",
       "      <td>Thank you! I like that the filter for this one...</td>\n",
       "      <td>0</td>\n",
       "      <td>thank you i like that the filter for this one ...</td>\n",
       "      <td>thank like filter longer life seen</td>\n",
       "    </tr>\n",
       "  </tbody>\n",
       "</table>\n",
       "<p>18999 rows × 4 columns</p>\n",
       "</div>"
      ],
      "text/plain": [
       "                                                comments  ski or sb  \\\n",
       "0      I think most people just prefer spinning to th...          1   \n",
       "1      They've all blown out their ACL and MCL multip...          1   \n",
       "2                         L1 has some really good gloves          1   \n",
       "3      I have a leather pigskin kinco mitten for the ...          1   \n",
       "4                          Alaska is next on the agenda!          1   \n",
       "...                                                  ...        ...   \n",
       "18994                               Never said he wasn’t          0   \n",
       "18995  They are both test and tried beacons and you h...          0   \n",
       "18996                           He is good at backflips.          0   \n",
       "18997  Damn . Good reminder to me to break out the sk...          0   \n",
       "18998  Thank you! I like that the filter for this one...          0   \n",
       "\n",
       "                                 no punctuation comments  \\\n",
       "0      i think most people just prefer spinning to th...   \n",
       "1      they ve all blown out their acl and mcl multip...   \n",
       "2                         l1 has some really good gloves   \n",
       "3      i have a leather pigskin kinco mitten for the ...   \n",
       "4                           alaska is next on the agenda   \n",
       "...                                                  ...   \n",
       "18994                               never said he wasn t   \n",
       "18995  they are both test and tried beacons and you h...   \n",
       "18996                            he is good at backflips   \n",
       "18997  damn good reminder to me to break out the skin...   \n",
       "18998  thank you i like that the filter for this one ...   \n",
       "\n",
       "                                   stopwordless comments  \n",
       "0      think people prefer spinning left including go...  \n",
       "1      blown acl mcl multiple times mother fuckers wa...  \n",
       "2                                  l1 really good gloves  \n",
       "3      leather pigskin kinco mitten cold softshell gl...  \n",
       "4                                          alaska agenda  \n",
       "...                                                  ...  \n",
       "18994                                               said  \n",
       "18995            test tried beacons honestly wrong pieps  \n",
       "18996                                     good backflips  \n",
       "18997  damn good reminder break skins lifts need stin...  \n",
       "18998                 thank like filter longer life seen  \n",
       "\n",
       "[18999 rows x 4 columns]"
      ]
     },
     "execution_count": 5,
     "metadata": {},
     "output_type": "execute_result"
    }
   ],
   "source": [
    "# remove rows that contain comments with words that are a single letter\n",
    "# or empty string\n",
    "remove_single_letter_column(sb_v_ski_10000,'stopwordless comments')"
   ]
  },
  {
   "cell_type": "code",
   "execution_count": 6,
   "metadata": {},
   "outputs": [],
   "source": [
    "# remove duplicate comments\n",
    "remove_duplicates(sb_v_ski_10000,'stopwordless comments')"
   ]
  },
  {
   "cell_type": "code",
   "execution_count": 7,
   "metadata": {},
   "outputs": [
    {
     "data": {
      "text/html": [
       "<div>\n",
       "<style scoped>\n",
       "    .dataframe tbody tr th:only-of-type {\n",
       "        vertical-align: middle;\n",
       "    }\n",
       "\n",
       "    .dataframe tbody tr th {\n",
       "        vertical-align: top;\n",
       "    }\n",
       "\n",
       "    .dataframe thead th {\n",
       "        text-align: right;\n",
       "    }\n",
       "</style>\n",
       "<table border=\"1\" class=\"dataframe\">\n",
       "  <thead>\n",
       "    <tr style=\"text-align: right;\">\n",
       "      <th></th>\n",
       "      <th>comments</th>\n",
       "      <th>ski or sb</th>\n",
       "      <th>no punctuation comments</th>\n",
       "      <th>stopwordless comments</th>\n",
       "      <th>stemmed comments</th>\n",
       "    </tr>\n",
       "  </thead>\n",
       "  <tbody>\n",
       "    <tr>\n",
       "      <th>0</th>\n",
       "      <td>I think most people just prefer spinning to th...</td>\n",
       "      <td>1</td>\n",
       "      <td>i think most people just prefer spinning to th...</td>\n",
       "      <td>think people prefer spinning left including go...</td>\n",
       "      <td>think peopl prefer spin left includ goofi ride...</td>\n",
       "    </tr>\n",
       "    <tr>\n",
       "      <th>1</th>\n",
       "      <td>They've all blown out their ACL and MCL multip...</td>\n",
       "      <td>1</td>\n",
       "      <td>they ve all blown out their acl and mcl multip...</td>\n",
       "      <td>blown acl mcl multiple times mother fuckers wa...</td>\n",
       "      <td>blown acl mcl multipl time mother fucker way loos</td>\n",
       "    </tr>\n",
       "    <tr>\n",
       "      <th>2</th>\n",
       "      <td>L1 has some really good gloves</td>\n",
       "      <td>1</td>\n",
       "      <td>l1 has some really good gloves</td>\n",
       "      <td>l1 really good gloves</td>\n",
       "      <td>l1 realli good glove</td>\n",
       "    </tr>\n",
       "    <tr>\n",
       "      <th>3</th>\n",
       "      <td>I have a leather pigskin kinco mitten for the ...</td>\n",
       "      <td>1</td>\n",
       "      <td>i have a leather pigskin kinco mitten for the ...</td>\n",
       "      <td>leather pigskin kinco mitten cold softshell gl...</td>\n",
       "      <td>leather pigskin kinco mitten cold softshel glo...</td>\n",
       "    </tr>\n",
       "    <tr>\n",
       "      <th>4</th>\n",
       "      <td>Alaska is next on the agenda!</td>\n",
       "      <td>1</td>\n",
       "      <td>alaska is next on the agenda</td>\n",
       "      <td>alaska agenda</td>\n",
       "      <td>alaska agenda</td>\n",
       "    </tr>\n",
       "    <tr>\n",
       "      <th>...</th>\n",
       "      <td>...</td>\n",
       "      <td>...</td>\n",
       "      <td>...</td>\n",
       "      <td>...</td>\n",
       "      <td>...</td>\n",
       "    </tr>\n",
       "    <tr>\n",
       "      <th>18987</th>\n",
       "      <td>Never said he wasn’t</td>\n",
       "      <td>0</td>\n",
       "      <td>never said he wasn t</td>\n",
       "      <td>said</td>\n",
       "      <td>said</td>\n",
       "    </tr>\n",
       "    <tr>\n",
       "      <th>18988</th>\n",
       "      <td>They are both test and tried beacons and you h...</td>\n",
       "      <td>0</td>\n",
       "      <td>they are both test and tried beacons and you h...</td>\n",
       "      <td>test tried beacons honestly wrong pieps</td>\n",
       "      <td>test tri beacon honestli wrong piep</td>\n",
       "    </tr>\n",
       "    <tr>\n",
       "      <th>18989</th>\n",
       "      <td>He is good at backflips.</td>\n",
       "      <td>0</td>\n",
       "      <td>he is good at backflips</td>\n",
       "      <td>good backflips</td>\n",
       "      <td>good backflip</td>\n",
       "    </tr>\n",
       "    <tr>\n",
       "      <th>18990</th>\n",
       "      <td>Damn . Good reminder to me to break out the sk...</td>\n",
       "      <td>0</td>\n",
       "      <td>damn good reminder to me to break out the skin...</td>\n",
       "      <td>damn good reminder break skins lifts need stin...</td>\n",
       "      <td>damn good remind break skin lift need stink li...</td>\n",
       "    </tr>\n",
       "    <tr>\n",
       "      <th>18991</th>\n",
       "      <td>Thank you! I like that the filter for this one...</td>\n",
       "      <td>0</td>\n",
       "      <td>thank you i like that the filter for this one ...</td>\n",
       "      <td>thank like filter longer life seen</td>\n",
       "      <td>thank like filter longer life seen</td>\n",
       "    </tr>\n",
       "  </tbody>\n",
       "</table>\n",
       "<p>18992 rows × 5 columns</p>\n",
       "</div>"
      ],
      "text/plain": [
       "                                                comments  ski or sb  \\\n",
       "0      I think most people just prefer spinning to th...          1   \n",
       "1      They've all blown out their ACL and MCL multip...          1   \n",
       "2                         L1 has some really good gloves          1   \n",
       "3      I have a leather pigskin kinco mitten for the ...          1   \n",
       "4                          Alaska is next on the agenda!          1   \n",
       "...                                                  ...        ...   \n",
       "18987                               Never said he wasn’t          0   \n",
       "18988  They are both test and tried beacons and you h...          0   \n",
       "18989                           He is good at backflips.          0   \n",
       "18990  Damn . Good reminder to me to break out the sk...          0   \n",
       "18991  Thank you! I like that the filter for this one...          0   \n",
       "\n",
       "                                 no punctuation comments  \\\n",
       "0      i think most people just prefer spinning to th...   \n",
       "1      they ve all blown out their acl and mcl multip...   \n",
       "2                         l1 has some really good gloves   \n",
       "3      i have a leather pigskin kinco mitten for the ...   \n",
       "4                           alaska is next on the agenda   \n",
       "...                                                  ...   \n",
       "18987                               never said he wasn t   \n",
       "18988  they are both test and tried beacons and you h...   \n",
       "18989                            he is good at backflips   \n",
       "18990  damn good reminder to me to break out the skin...   \n",
       "18991  thank you i like that the filter for this one ...   \n",
       "\n",
       "                                   stopwordless comments  \\\n",
       "0      think people prefer spinning left including go...   \n",
       "1      blown acl mcl multiple times mother fuckers wa...   \n",
       "2                                  l1 really good gloves   \n",
       "3      leather pigskin kinco mitten cold softshell gl...   \n",
       "4                                          alaska agenda   \n",
       "...                                                  ...   \n",
       "18987                                               said   \n",
       "18988            test tried beacons honestly wrong pieps   \n",
       "18989                                     good backflips   \n",
       "18990  damn good reminder break skins lifts need stin...   \n",
       "18991                 thank like filter longer life seen   \n",
       "\n",
       "                                        stemmed comments  \n",
       "0      think peopl prefer spin left includ goofi ride...  \n",
       "1      blown acl mcl multipl time mother fucker way loos  \n",
       "2                                   l1 realli good glove  \n",
       "3      leather pigskin kinco mitten cold softshel glo...  \n",
       "4                                          alaska agenda  \n",
       "...                                                  ...  \n",
       "18987                                               said  \n",
       "18988                test tri beacon honestli wrong piep  \n",
       "18989                                      good backflip  \n",
       "18990  damn good remind break skin lift need stink li...  \n",
       "18991                 thank like filter longer life seen  \n",
       "\n",
       "[18992 rows x 5 columns]"
      ]
     },
     "execution_count": 7,
     "metadata": {},
     "output_type": "execute_result"
    }
   ],
   "source": [
    "# apply PorterStemmer to each comment\n",
    "p_stem_column(sb_v_ski_10000,'stopwordless comments')"
   ]
  },
  {
   "cell_type": "markdown",
   "metadata": {},
   "source": [
    "## Converting Dataframes into csv Files"
   ]
  },
  {
   "cell_type": "code",
   "execution_count": 8,
   "metadata": {},
   "outputs": [
    {
     "data": {
      "text/html": [
       "<div>\n",
       "<style scoped>\n",
       "    .dataframe tbody tr th:only-of-type {\n",
       "        vertical-align: middle;\n",
       "    }\n",
       "\n",
       "    .dataframe tbody tr th {\n",
       "        vertical-align: top;\n",
       "    }\n",
       "\n",
       "    .dataframe thead th {\n",
       "        text-align: right;\n",
       "    }\n",
       "</style>\n",
       "<table border=\"1\" class=\"dataframe\">\n",
       "  <thead>\n",
       "    <tr style=\"text-align: right;\">\n",
       "      <th></th>\n",
       "      <th>comments</th>\n",
       "      <th>ski or sb</th>\n",
       "      <th>no punctuation comments</th>\n",
       "      <th>stopwordless comments</th>\n",
       "      <th>stemmed comments</th>\n",
       "    </tr>\n",
       "  </thead>\n",
       "  <tbody>\n",
       "    <tr>\n",
       "      <th>0</th>\n",
       "      <td>A buddy of mine who could only afford 1 skis a...</td>\n",
       "      <td>0</td>\n",
       "      <td>a buddy of mine who could only afford 1 skis a...</td>\n",
       "      <td>buddy afford time went ones hesitation good di...</td>\n",
       "      <td>buddi afford time went one hesit good direct</td>\n",
       "    </tr>\n",
       "    <tr>\n",
       "      <th>1</th>\n",
       "      <td>Don’t get me wrong, the bent chetlers are not ...</td>\n",
       "      <td>0</td>\n",
       "      <td>don t get me wrong the bent chetlers are not a...</td>\n",
       "      <td>wrong bent chetlers bad old automatics bent ch...</td>\n",
       "      <td>wrong bent chetler bad old automat bent chetle...</td>\n",
       "    </tr>\n",
       "    <tr>\n",
       "      <th>2</th>\n",
       "      <td>Great photo. Seriously. \\n\\n\\nBut is this the ...</td>\n",
       "      <td>0</td>\n",
       "      <td>great photo seriously but is this the equivale...</td>\n",
       "      <td>great photo seriously equivalent chic taking p...</td>\n",
       "      <td>great photo serious equival chic take photo salad</td>\n",
       "    </tr>\n",
       "    <tr>\n",
       "      <th>3</th>\n",
       "      <td>What kind of budget are you looking at? It’s p...</td>\n",
       "      <td>0</td>\n",
       "      <td>what kind of budget are you looking at it s pr...</td>\n",
       "      <td>kind budget looking probably great time buy se...</td>\n",
       "      <td>kind budget look probabl great time buy season...</td>\n",
       "    </tr>\n",
       "    <tr>\n",
       "      <th>4</th>\n",
       "      <td>Coverage is fine on-trail.</td>\n",
       "      <td>0</td>\n",
       "      <td>coverage is fine on trail</td>\n",
       "      <td>coverage fine trail</td>\n",
       "      <td>coverag fine trail</td>\n",
       "    </tr>\n",
       "    <tr>\n",
       "      <th>...</th>\n",
       "      <td>...</td>\n",
       "      <td>...</td>\n",
       "      <td>...</td>\n",
       "      <td>...</td>\n",
       "      <td>...</td>\n",
       "    </tr>\n",
       "    <tr>\n",
       "      <th>9195</th>\n",
       "      <td>Never said he wasn’t</td>\n",
       "      <td>0</td>\n",
       "      <td>never said he wasn t</td>\n",
       "      <td>said</td>\n",
       "      <td>said</td>\n",
       "    </tr>\n",
       "    <tr>\n",
       "      <th>9196</th>\n",
       "      <td>They are both test and tried beacons and you h...</td>\n",
       "      <td>0</td>\n",
       "      <td>they are both test and tried beacons and you h...</td>\n",
       "      <td>test tried beacons honestly wrong pieps</td>\n",
       "      <td>test tri beacon honestli wrong piep</td>\n",
       "    </tr>\n",
       "    <tr>\n",
       "      <th>9197</th>\n",
       "      <td>He is good at backflips.</td>\n",
       "      <td>0</td>\n",
       "      <td>he is good at backflips</td>\n",
       "      <td>good backflips</td>\n",
       "      <td>good backflip</td>\n",
       "    </tr>\n",
       "    <tr>\n",
       "      <th>9198</th>\n",
       "      <td>Damn . Good reminder to me to break out the sk...</td>\n",
       "      <td>0</td>\n",
       "      <td>damn good reminder to me to break out the skin...</td>\n",
       "      <td>damn good reminder break skins lifts need stin...</td>\n",
       "      <td>damn good remind break skin lift need stink li...</td>\n",
       "    </tr>\n",
       "    <tr>\n",
       "      <th>9199</th>\n",
       "      <td>Thank you! I like that the filter for this one...</td>\n",
       "      <td>0</td>\n",
       "      <td>thank you i like that the filter for this one ...</td>\n",
       "      <td>thank like filter longer life seen</td>\n",
       "      <td>thank like filter longer life seen</td>\n",
       "    </tr>\n",
       "  </tbody>\n",
       "</table>\n",
       "<p>9200 rows × 5 columns</p>\n",
       "</div>"
      ],
      "text/plain": [
       "                                               comments  ski or sb  \\\n",
       "0     A buddy of mine who could only afford 1 skis a...          0   \n",
       "1     Don’t get me wrong, the bent chetlers are not ...          0   \n",
       "2     Great photo. Seriously. \\n\\n\\nBut is this the ...          0   \n",
       "3     What kind of budget are you looking at? It’s p...          0   \n",
       "4                            Coverage is fine on-trail.          0   \n",
       "...                                                 ...        ...   \n",
       "9195                               Never said he wasn’t          0   \n",
       "9196  They are both test and tried beacons and you h...          0   \n",
       "9197                           He is good at backflips.          0   \n",
       "9198  Damn . Good reminder to me to break out the sk...          0   \n",
       "9199  Thank you! I like that the filter for this one...          0   \n",
       "\n",
       "                                no punctuation comments  \\\n",
       "0     a buddy of mine who could only afford 1 skis a...   \n",
       "1     don t get me wrong the bent chetlers are not a...   \n",
       "2     great photo seriously but is this the equivale...   \n",
       "3     what kind of budget are you looking at it s pr...   \n",
       "4                             coverage is fine on trail   \n",
       "...                                                 ...   \n",
       "9195                               never said he wasn t   \n",
       "9196  they are both test and tried beacons and you h...   \n",
       "9197                            he is good at backflips   \n",
       "9198  damn good reminder to me to break out the skin...   \n",
       "9199  thank you i like that the filter for this one ...   \n",
       "\n",
       "                                  stopwordless comments  \\\n",
       "0     buddy afford time went ones hesitation good di...   \n",
       "1     wrong bent chetlers bad old automatics bent ch...   \n",
       "2     great photo seriously equivalent chic taking p...   \n",
       "3     kind budget looking probably great time buy se...   \n",
       "4                                   coverage fine trail   \n",
       "...                                                 ...   \n",
       "9195                                               said   \n",
       "9196            test tried beacons honestly wrong pieps   \n",
       "9197                                     good backflips   \n",
       "9198  damn good reminder break skins lifts need stin...   \n",
       "9199                 thank like filter longer life seen   \n",
       "\n",
       "                                       stemmed comments  \n",
       "0          buddi afford time went one hesit good direct  \n",
       "1     wrong bent chetler bad old automat bent chetle...  \n",
       "2     great photo serious equival chic take photo salad  \n",
       "3     kind budget look probabl great time buy season...  \n",
       "4                                    coverag fine trail  \n",
       "...                                                 ...  \n",
       "9195                                               said  \n",
       "9196                test tri beacon honestli wrong piep  \n",
       "9197                                      good backflip  \n",
       "9198  damn good remind break skin lift need stink li...  \n",
       "9199                 thank like filter longer life seen  \n",
       "\n",
       "[9200 rows x 5 columns]"
      ]
     },
     "execution_count": 8,
     "metadata": {},
     "output_type": "execute_result"
    }
   ],
   "source": [
    "# create a dataframe with all ski comments\n",
    "ski_10000 = pd.DataFrame(sb_v_ski_10000[sb_v_ski_10000['ski or sb'] == 0]).reset_index(drop = True)\n",
    "ski_10000"
   ]
  },
  {
   "cell_type": "code",
   "execution_count": 9,
   "metadata": {},
   "outputs": [
    {
     "data": {
      "text/html": [
       "<div>\n",
       "<style scoped>\n",
       "    .dataframe tbody tr th:only-of-type {\n",
       "        vertical-align: middle;\n",
       "    }\n",
       "\n",
       "    .dataframe tbody tr th {\n",
       "        vertical-align: top;\n",
       "    }\n",
       "\n",
       "    .dataframe thead th {\n",
       "        text-align: right;\n",
       "    }\n",
       "</style>\n",
       "<table border=\"1\" class=\"dataframe\">\n",
       "  <thead>\n",
       "    <tr style=\"text-align: right;\">\n",
       "      <th></th>\n",
       "      <th>comments</th>\n",
       "      <th>ski or sb</th>\n",
       "      <th>no punctuation comments</th>\n",
       "      <th>stopwordless comments</th>\n",
       "      <th>stemmed comments</th>\n",
       "    </tr>\n",
       "  </thead>\n",
       "  <tbody>\n",
       "    <tr>\n",
       "      <th>0</th>\n",
       "      <td>I think most people just prefer spinning to th...</td>\n",
       "      <td>1</td>\n",
       "      <td>i think most people just prefer spinning to th...</td>\n",
       "      <td>think people prefer spinning left including go...</td>\n",
       "      <td>think peopl prefer spin left includ goofi ride...</td>\n",
       "    </tr>\n",
       "    <tr>\n",
       "      <th>1</th>\n",
       "      <td>They've all blown out their ACL and MCL multip...</td>\n",
       "      <td>1</td>\n",
       "      <td>they ve all blown out their acl and mcl multip...</td>\n",
       "      <td>blown acl mcl multiple times mother fuckers wa...</td>\n",
       "      <td>blown acl mcl multipl time mother fucker way loos</td>\n",
       "    </tr>\n",
       "    <tr>\n",
       "      <th>2</th>\n",
       "      <td>L1 has some really good gloves</td>\n",
       "      <td>1</td>\n",
       "      <td>l1 has some really good gloves</td>\n",
       "      <td>l1 really good gloves</td>\n",
       "      <td>l1 realli good glove</td>\n",
       "    </tr>\n",
       "    <tr>\n",
       "      <th>3</th>\n",
       "      <td>I have a leather pigskin kinco mitten for the ...</td>\n",
       "      <td>1</td>\n",
       "      <td>i have a leather pigskin kinco mitten for the ...</td>\n",
       "      <td>leather pigskin kinco mitten cold softshell gl...</td>\n",
       "      <td>leather pigskin kinco mitten cold softshel glo...</td>\n",
       "    </tr>\n",
       "    <tr>\n",
       "      <th>4</th>\n",
       "      <td>Alaska is next on the agenda!</td>\n",
       "      <td>1</td>\n",
       "      <td>alaska is next on the agenda</td>\n",
       "      <td>alaska agenda</td>\n",
       "      <td>alaska agenda</td>\n",
       "    </tr>\n",
       "    <tr>\n",
       "      <th>...</th>\n",
       "      <td>...</td>\n",
       "      <td>...</td>\n",
       "      <td>...</td>\n",
       "      <td>...</td>\n",
       "      <td>...</td>\n",
       "    </tr>\n",
       "    <tr>\n",
       "      <th>9787</th>\n",
       "      <td>Decided to get the Jones Mountain Twin now nee...</td>\n",
       "      <td>1</td>\n",
       "      <td>decided to get the jones mountain twin now nee...</td>\n",
       "      <td>decided jones mountain twin need help sizing f...</td>\n",
       "      <td>decid jone mountain twin need help size ft 190...</td>\n",
       "    </tr>\n",
       "    <tr>\n",
       "      <th>9788</th>\n",
       "      <td>Try do in the rotation in two motions like bac...</td>\n",
       "      <td>1</td>\n",
       "      <td>try do in the rotation in two motions like bac...</td>\n",
       "      <td>try rotation motions like pause throw tail grab</td>\n",
       "      <td>tri rotat motion like paus throw tail grab</td>\n",
       "    </tr>\n",
       "    <tr>\n",
       "      <th>9789</th>\n",
       "      <td>As a guy that tried learning in my mid twentie...</td>\n",
       "      <td>1</td>\n",
       "      <td>as a guy that tried learning in my mid twentie...</td>\n",
       "      <td>guy tried learning mid twenties wish chance le...</td>\n",
       "      <td>guy tri learn mid twenti wish chanc learn youn...</td>\n",
       "    </tr>\n",
       "    <tr>\n",
       "      <th>9790</th>\n",
       "      <td>Cat traxxx</td>\n",
       "      <td>1</td>\n",
       "      <td>cat traxxx</td>\n",
       "      <td>cat traxxx</td>\n",
       "      <td>cat traxxx</td>\n",
       "    </tr>\n",
       "    <tr>\n",
       "      <th>9791</th>\n",
       "      <td>im fairly new, only been a handful of times, d...</td>\n",
       "      <td>1</td>\n",
       "      <td>im fairly new only been a handful of times def...</td>\n",
       "      <td>im fairly new handful times definitely beginne...</td>\n",
       "      <td>im fairli new hand time definit beginn statu f...</td>\n",
       "    </tr>\n",
       "  </tbody>\n",
       "</table>\n",
       "<p>9792 rows × 5 columns</p>\n",
       "</div>"
      ],
      "text/plain": [
       "                                               comments  ski or sb  \\\n",
       "0     I think most people just prefer spinning to th...          1   \n",
       "1     They've all blown out their ACL and MCL multip...          1   \n",
       "2                        L1 has some really good gloves          1   \n",
       "3     I have a leather pigskin kinco mitten for the ...          1   \n",
       "4                         Alaska is next on the agenda!          1   \n",
       "...                                                 ...        ...   \n",
       "9787  Decided to get the Jones Mountain Twin now nee...          1   \n",
       "9788  Try do in the rotation in two motions like bac...          1   \n",
       "9789  As a guy that tried learning in my mid twentie...          1   \n",
       "9790                                         Cat traxxx          1   \n",
       "9791  im fairly new, only been a handful of times, d...          1   \n",
       "\n",
       "                                no punctuation comments  \\\n",
       "0     i think most people just prefer spinning to th...   \n",
       "1     they ve all blown out their acl and mcl multip...   \n",
       "2                        l1 has some really good gloves   \n",
       "3     i have a leather pigskin kinco mitten for the ...   \n",
       "4                          alaska is next on the agenda   \n",
       "...                                                 ...   \n",
       "9787  decided to get the jones mountain twin now nee...   \n",
       "9788  try do in the rotation in two motions like bac...   \n",
       "9789  as a guy that tried learning in my mid twentie...   \n",
       "9790                                         cat traxxx   \n",
       "9791  im fairly new only been a handful of times def...   \n",
       "\n",
       "                                  stopwordless comments  \\\n",
       "0     think people prefer spinning left including go...   \n",
       "1     blown acl mcl multiple times mother fuckers wa...   \n",
       "2                                 l1 really good gloves   \n",
       "3     leather pigskin kinco mitten cold softshell gl...   \n",
       "4                                         alaska agenda   \n",
       "...                                                 ...   \n",
       "9787  decided jones mountain twin need help sizing f...   \n",
       "9788    try rotation motions like pause throw tail grab   \n",
       "9789  guy tried learning mid twenties wish chance le...   \n",
       "9790                                         cat traxxx   \n",
       "9791  im fairly new handful times definitely beginne...   \n",
       "\n",
       "                                       stemmed comments  \n",
       "0     think peopl prefer spin left includ goofi ride...  \n",
       "1     blown acl mcl multipl time mother fucker way loos  \n",
       "2                                  l1 realli good glove  \n",
       "3     leather pigskin kinco mitten cold softshel glo...  \n",
       "4                                         alaska agenda  \n",
       "...                                                 ...  \n",
       "9787  decid jone mountain twin need help size ft 190...  \n",
       "9788         tri rotat motion like paus throw tail grab  \n",
       "9789  guy tri learn mid twenti wish chanc learn youn...  \n",
       "9790                                         cat traxxx  \n",
       "9791  im fairli new hand time definit beginn statu f...  \n",
       "\n",
       "[9792 rows x 5 columns]"
      ]
     },
     "execution_count": 9,
     "metadata": {},
     "output_type": "execute_result"
    }
   ],
   "source": [
    "# create a dataframe with all snowboarding comments\n",
    "sb_10000 = pd.DataFrame(sb_v_ski_10000[sb_v_ski_10000['ski or sb'] == 1]).reset_index(drop = True)\n",
    "sb_10000"
   ]
  },
  {
   "cell_type": "markdown",
   "metadata": {},
   "source": [
    "## Sentiment Analysis"
   ]
  },
  {
   "cell_type": "code",
   "execution_count": 10,
   "metadata": {},
   "outputs": [],
   "source": [
    "# create a column that applies SentimentIntensityAnalyzer to each ski \n",
    "# comment SentimentIntensityAnalyzer has been modified so that primarily \n",
    "# neutral comments aren't classified as positive or negative\n",
    "ski_10000 = sentiment_analyzer(ski_10000,'stemmed comments')"
   ]
  },
  {
   "cell_type": "code",
   "execution_count": 11,
   "metadata": {},
   "outputs": [],
   "source": [
    "# create a column that applies SentimentIntensityAnalyzer to each snowboarding\n",
    "# comment\n",
    "sb_10000 = sentiment_analyzer(sb_10000,'stemmed comments')"
   ]
  },
  {
   "cell_type": "code",
   "execution_count": 12,
   "metadata": {},
   "outputs": [],
   "source": [
    "# create a column that applies SentimentIntensityAnalyzer to each comment \n",
    "sb_v_ski_10000 = sentiment_analyzer(sb_v_ski_10000,'stemmed comments')"
   ]
  },
  {
   "cell_type": "code",
   "execution_count": 13,
   "metadata": {},
   "outputs": [],
   "source": [
    "# save complete dataframe dataframe as csv\n",
    "sb_v_ski_10000.to_csv('./data/sb_v_ski_comment_data_10000.csv')"
   ]
  },
  {
   "cell_type": "code",
   "execution_count": 14,
   "metadata": {},
   "outputs": [],
   "source": [
    "# save complete snowboarding dataframe as csv\n",
    "sb_10000.to_csv('./data/sb_comment_data_10000.csv')"
   ]
  },
  {
   "cell_type": "code",
   "execution_count": 15,
   "metadata": {},
   "outputs": [],
   "source": [
    "# save complete ski dataframe as csv\n",
    "ski_10000.to_csv('./data/ski_comment_data_10000.csv')"
   ]
  },
  {
   "cell_type": "markdown",
   "metadata": {},
   "source": [
    "## Visualizations\n",
    "Got different color names for matplotlib from:\\\n",
    "https://matplotlib.org/3.1.0/gallery/color/named_colors.html"
   ]
  },
  {
   "cell_type": "code",
   "execution_count": 16,
   "metadata": {},
   "outputs": [
    {
     "data": {
      "image/png": "[encoded data removed]",
      "text/plain": [
       "<Figure size 432x288 with 1 Axes>"
      ]
     },
     "metadata": {
      "needs_background": "light"
     },
     "output_type": "display_data"
    }
   ],
   "source": [
    "# plot skier's sentiment\n",
    "ski_10000['sentiment'].value_counts().plot(\n",
    "    kind = 'bar',\n",
    "    color = 'darkblue')\n",
    "\n",
    "positions = (0,1,2)\n",
    "labels = ('Neutral (56.6%)','Positive (34.7%)','Negative (8.7%)')\n",
    "plt.xticks(positions,labels)\n",
    "plt.xlabel('Sentiment')\n",
    "plt.ylabel('Comments')\n",
    "plt.title('Skier\\'s Sentiment');"
   ]
  },
  {
   "cell_type": "code",
   "execution_count": 17,
   "metadata": {},
   "outputs": [
    {
     "data": {
      "image/png": "[encoded data removed]",
      "text/plain": [
       "<Figure size 432x288 with 1 Axes>"
      ]
     },
     "metadata": {
      "needs_background": "light"
     },
     "output_type": "display_data"
    }
   ],
   "source": [
    "# plot snowboarder's sentiment\n",
    "sb_10000['sentiment'].value_counts().plot(\n",
    "    kind = 'bar',\n",
    "    color = 'royalblue')\n",
    "\n",
    "positions = (0,1,2)\n",
    "labels = ('Neutral (59%)','Positive (32.6%)','Negative (8.4%)')\n",
    "plt.xticks(positions,labels)\n",
    "plt.xlabel('Sentiment')\n",
    "plt.ylabel('Comments')\n",
    "plt.title('Snowboarder\\'s Sentiment');"
   ]
  },
  {
   "cell_type": "markdown",
   "metadata": {},
   "source": [
    "## Top Words"
   ]
  },
  {
   "cell_type": "code",
   "execution_count": 18,
   "metadata": {},
   "outputs": [
    {
     "name": "stdout",
     "output_type": "stream",
     "text": [
      "Most Common \t\t  Least Common\n",
      "['boot', 4759, 0.0148]    ['statu', 1, 0.0]\n",
      "['like', 4437, 0.0138]    ['traxxx', 1, 0.0]\n",
      "['day', 2919, 0.0091]     ['fraction', 1, 0.0]\n",
      "['look', 2712, 0.0085]    ['twenti', 1, 0.0]\n",
      "['wide', 2535, 0.0079]    ['86', 1, 0.0]\n",
      "['good', 2508, 0.0078]    ['squish', 1, 0.0]\n",
      "['need', 2503, 0.0078]    ['popsicl', 1, 0.0]\n",
      "['question', 2499, 0.0078]  ['youngest', 1, 0.0]\n",
      "['bent', 2426, 0.0076]    ['46', 1, 0.0]\n",
      "['tri', 2365, 0.0074]     ['mud', 1, 0.0]\n",
      "['use', 2335, 0.0073]     ['halldor', 1, 0.0]\n",
      "['time', 2170, 0.0068]    ['doubli', 1, 0.0]\n",
      "['season', 2110, 0.0066]  ['baja', 1, 0.0]\n",
      "['lift', 1912, 0.006]     ['vengaboy', 1, 0.0]\n",
      "['foot', 1892, 0.0059]    ['vengabu', 1, 0.0]\n",
      "['want', 1878, 0.0059]    ['throw964', 1, 0.0]\n",
      "['snow', 1815, 0.0057]    ['royal', 1, 0.0]\n",
      "['amp', 1814, 0.0057]     ['60yr', 1, 0.0]\n",
      "['condit', 1718, 0.0054]  ['snurfer', 1, 0.0]\n",
      "['break', 1697, 0.0053]   ['burli', 1, 0.0]\n",
      "['tall', 1613, 0.005]     ['256', 1, 0.0]\n",
      "['5mm', 1600, 0.005]      ['romesnowboard', 1, 0.0]\n",
      "['love', 1526, 0.0048]    ['maaaaan', 1, 0.0]\n",
      "['bind', 1496, 0.0047]    ['snowboardingprofil', 1, 0.0]\n"
     ]
    }
   ],
   "source": [
    "# look at top words\n",
    "freq_table(sb_v_ski_10000,'stemmed comments')"
   ]
  },
  {
   "cell_type": "code",
   "execution_count": 19,
   "metadata": {},
   "outputs": [
    {
     "name": "stdout",
     "output_type": "stream",
     "text": [
      "Most Common \t\t  Least Common\n",
      "['like', 1637, 0.013]     ['statu', 1, 0.0]\n",
      "['look', 1112, 0.0089]    ['traxxx', 1, 0.0]\n",
      "['time', 970, 0.0077]     ['fraction', 1, 0.0]\n",
      "['day', 919, 0.0073]      ['twenti', 1, 0.0]\n",
      "['good', 908, 0.0072]     ['86', 1, 0.0]\n",
      "['tri', 765, 0.0061]      ['squish', 1, 0.0]\n",
      "['year', 759, 0.006]      ['popsicl', 1, 0.0]\n",
      "['boot', 759, 0.006]      ['youngest', 1, 0.0]\n",
      "['use', 735, 0.0059]      ['46', 1, 0.0]\n",
      "['bind', 696, 0.0055]     ['mud', 1, 0.0]\n",
      "['make', 694, 0.0055]     ['halldor', 1, 0.0]\n",
      "['realli', 692, 0.0055]   ['doubli', 1, 0.0]\n",
      "['turn', 683, 0.0054]     ['baja', 1, 0.0]\n",
      "['want', 678, 0.0054]     ['vengaboy', 1, 0.0]\n",
      "['thank', 678, 0.0054]    ['vengabu', 1, 0.0]\n",
      "['think', 644, 0.0051]    ['throw964', 1, 0.0]\n",
      "['go', 618, 0.0049]       ['royal', 1, 0.0]\n",
      "['snow', 615, 0.0049]     ['60yr', 1, 0.0]\n",
      "['mountain', 581, 0.0046]  ['snurfer', 1, 0.0]\n",
      "['got', 573, 0.0046]      ['burli', 1, 0.0]\n",
      "['know', 558, 0.0044]     ['256', 1, 0.0]\n",
      "['peopl', 547, 0.0044]    ['romesnowboard', 1, 0.0]\n",
      "['edg', 532, 0.0042]      ['maaaaan', 1, 0.0]\n",
      "['way', 517, 0.0041]      ['snowboardingprofil', 1, 0.0]\n"
     ]
    }
   ],
   "source": [
    "# look at snowboarding top words\n",
    "freq_table(sb_10000,'stemmed comments')"
   ]
  },
  {
   "cell_type": "code",
   "execution_count": 20,
   "metadata": {
    "scrolled": true
   },
   "outputs": [
    {
     "name": "stdout",
     "output_type": "stream",
     "text": [
      "Most Common \t\t  Least Common\n",
      "['boot', 4000, 0.0205]    ['seen', 400, 0.002]\n",
      "['like', 2800, 0.0143]    ['life', 400, 0.002]\n",
      "['bent', 2400, 0.0123]    ['longer', 400, 0.002]\n",
      "['wide', 2400, 0.0123]    ['filter', 400, 0.002]\n",
      "['question', 2400, 0.0123]  ['shower', 400, 0.002]\n",
      "['day', 2000, 0.0102]     ['backdown', 400, 0.002]\n",
      "['need', 2000, 0.0102]    ['tele', 400, 0.002]\n",
      "['good', 1600, 0.0082]    ['power', 400, 0.002]\n",
      "['condit', 1600, 0.0082]  ['mountain', 400, 0.002]\n",
      "['use', 1600, 0.0082]     ['let', 400, 0.002]\n",
      "['look', 1600, 0.0082]    ['border', 400, 0.002]\n",
      "['season', 1600, 0.0082]  ['dang', 400, 0.002]\n",
      "['tall', 1600, 0.0082]    ['stink', 400, 0.002]\n",
      "['foot', 1600, 0.0082]    ['skin', 400, 0.002]\n",
      "['5mm', 1600, 0.0082]     ['remind', 400, 0.002]\n",
      "['tri', 1600, 0.0082]     ['damn', 400, 0.002]\n",
      "['amp', 1600, 0.0082]     ['backflip', 400, 0.002]\n",
      "['break', 1600, 0.0082]   ['piep', 400, 0.002]\n",
      "['lift', 1600, 0.0082]    ['honestli', 400, 0.002]\n",
      "['time', 1200, 0.0061]    ['beacon', 400, 0.002]\n",
      "['chetler', 1200, 0.0061]  ['test', 400, 0.002]\n",
      "['100', 1200, 0.0061]     ['said', 400, 0.002]\n",
      "['race', 1200, 0.0061]    ['section', 400, 0.002]\n",
      "['snow', 1200, 0.0061]    ['clearanc', 400, 0.002]\n"
     ]
    }
   ],
   "source": [
    "# look at ski top words\n",
    "freq_table(ski_10000,'stemmed comments')"
   ]
  },
  {
   "cell_type": "code",
   "execution_count": 21,
   "metadata": {},
   "outputs": [],
   "source": [
    "# import stopword list that includes words uniquely related to \n",
    "# skiing or snowboarding\n",
    "stopwords = ski_and_sb_stopword_list()"
   ]
  },
  {
   "cell_type": "code",
   "execution_count": 22,
   "metadata": {
    "scrolled": false
   },
   "outputs": [
    {
     "name": "stderr",
     "output_type": "stream",
     "text": [
      "/opt/anaconda3/lib/python3.8/site-packages/sklearn/feature_extraction/text.py:383: UserWarning: Your stop_words may be inconsistent with your preprocessing. Tokenizing the stop words generated tokens ['apres', 'combined', 'country', 'heli', 'jumping', 'nordic', 'speed'] not in stop_words.\n",
      "  warnings.warn('Your stop_words may be inconsistent with '\n"
     ]
    }
   ],
   "source": [
    "# apply CountVectorizer to each comment\n",
    "comment_df = cvec_df(sb_v_ski_10000,'stemmed comments',stopwords)"
   ]
  },
  {
   "cell_type": "code",
   "execution_count": 23,
   "metadata": {},
   "outputs": [
    {
     "data": {
      "image/png": "[encoded data removed]",
      "text/plain": [
       "<Figure size 432x288 with 1 Axes>"
      ]
     },
     "metadata": {
      "needs_background": "light"
     },
     "output_type": "display_data"
    }
   ],
   "source": [
    "# plot top 25 words\n",
    "comment_df.sum().sort_values(ascending = False).head(25).plot(\n",
    "    kind = 'barh', \n",
    "    title = 'top 25 words'\n",
    ")\n",
    "\n",
    "plt.gca().invert_yaxis();"
   ]
  },
  {
   "cell_type": "markdown",
   "metadata": {},
   "source": [
    "### Ski Top Words"
   ]
  },
  {
   "cell_type": "code",
   "execution_count": 24,
   "metadata": {},
   "outputs": [],
   "source": [
    "# CountVectorize ski data\n",
    "ski_comment_df = cvec_df(ski_10000,'stemmed comments',stopwords)"
   ]
  },
  {
   "cell_type": "code",
   "execution_count": 25,
   "metadata": {
    "scrolled": true
   },
   "outputs": [
    {
     "data": {
      "image/png": "[encoded data removed]",
      "text/plain": [
       "<Figure size 432x288 with 1 Axes>"
      ]
     },
     "metadata": {
      "needs_background": "light"
     },
     "output_type": "display_data"
    }
   ],
   "source": [
    "# plot top 25 words of ski comments\n",
    "ski_comment_df.sum().sort_values(ascending = False).head(25).plot(\n",
    "    kind = 'barh', \n",
    "    color = 'darkblue',\n",
    "    title = 'Skiing Top 25 Words')\n",
    "\n",
    "plt.gca().invert_yaxis();"
   ]
  },
  {
   "cell_type": "markdown",
   "metadata": {},
   "source": [
    "## Snowboarding Top Words"
   ]
  },
  {
   "cell_type": "code",
   "execution_count": 26,
   "metadata": {},
   "outputs": [],
   "source": [
    "# CountVectorize snowboarding comments\n",
    "sb_comment_df = cvec_df(sb_10000,'stemmed comments',stopwords)"
   ]
  },
  {
   "cell_type": "code",
   "execution_count": 27,
   "metadata": {
    "scrolled": true
   },
   "outputs": [
    {
     "data": {
      "image/png": "[encoded data removed]",
      "text/plain": [
       "<Figure size 432x288 with 1 Axes>"
      ]
     },
     "metadata": {
      "needs_background": "light"
     },
     "output_type": "display_data"
    }
   ],
   "source": [
    "# plot snowboarding top 25 words\n",
    "sb_comment_df.sum().sort_values(ascending = False).head(25).plot(\n",
    "    kind = 'barh', \n",
    "    color = 'royalblue',\n",
    "    title = 'Snowboarding Top 25 Words')\n",
    "\n",
    "plt.gca().invert_yaxis();"
   ]
  },
  {
   "cell_type": "markdown",
   "metadata": {},
   "source": [
    "## Test Results"
   ]
  },
  {
   "cell_type": "code",
   "execution_count": 28,
   "metadata": {},
   "outputs": [],
   "source": [
    "# import top model test scores\n",
    "best_tests_1000_comments = pd.read_csv('./data/best_tests_1000_comments.csv',index_col = 0)\n",
    "best_tests_2500_comments = pd.read_csv('./data/best_tests_2500_comments.csv',index_col = 0)\n",
    "best_tests_5000_comments = pd.read_csv('./data/best_tests_5000_comments.csv',index_col = 0)\n",
    "best_tests_10000_comments = pd.read_csv('./data/best_tests_10000_comments.csv',index_col = 0)"
   ]
  },
  {
   "cell_type": "code",
   "execution_count": 29,
   "metadata": {},
   "outputs": [
    {
     "data": {
      "text/html": [
       "<div>\n",
       "<style scoped>\n",
       "    .dataframe tbody tr th:only-of-type {\n",
       "        vertical-align: middle;\n",
       "    }\n",
       "\n",
       "    .dataframe tbody tr th {\n",
       "        vertical-align: top;\n",
       "    }\n",
       "\n",
       "    .dataframe thead th {\n",
       "        text-align: right;\n",
       "    }\n",
       "</style>\n",
       "<table border=\"1\" class=\"dataframe\">\n",
       "  <thead>\n",
       "    <tr style=\"text-align: right;\">\n",
       "      <th></th>\n",
       "      <th>nb cvec</th>\n",
       "      <th>nb tvec</th>\n",
       "      <th>rf cvec</th>\n",
       "      <th>rf tvec</th>\n",
       "      <th>et cvec</th>\n",
       "      <th>et tvec</th>\n",
       "      <th>knn cvec</th>\n",
       "      <th>knn tvec</th>\n",
       "      <th>logr cvec</th>\n",
       "      <th>logr tvec</th>\n",
       "    </tr>\n",
       "  </thead>\n",
       "  <tbody>\n",
       "    <tr>\n",
       "      <th>split0_test_score</th>\n",
       "      <td>0.8550</td>\n",
       "      <td>0.8875</td>\n",
       "      <td>0.8050</td>\n",
       "      <td>0.7725</td>\n",
       "      <td>0.7800</td>\n",
       "      <td>0.7625</td>\n",
       "      <td>0.9950</td>\n",
       "      <td>0.9925</td>\n",
       "      <td>0.9875</td>\n",
       "      <td>0.9900</td>\n",
       "    </tr>\n",
       "    <tr>\n",
       "      <th>split1_test_score</th>\n",
       "      <td>0.8675</td>\n",
       "      <td>0.9125</td>\n",
       "      <td>0.7600</td>\n",
       "      <td>0.8050</td>\n",
       "      <td>0.7500</td>\n",
       "      <td>0.8225</td>\n",
       "      <td>0.9975</td>\n",
       "      <td>1.0000</td>\n",
       "      <td>0.9925</td>\n",
       "      <td>1.0000</td>\n",
       "    </tr>\n",
       "    <tr>\n",
       "      <th>split2_test_score</th>\n",
       "      <td>0.8525</td>\n",
       "      <td>0.8975</td>\n",
       "      <td>0.7825</td>\n",
       "      <td>0.8375</td>\n",
       "      <td>0.8025</td>\n",
       "      <td>0.8250</td>\n",
       "      <td>1.0000</td>\n",
       "      <td>1.0000</td>\n",
       "      <td>0.9925</td>\n",
       "      <td>0.9975</td>\n",
       "    </tr>\n",
       "    <tr>\n",
       "      <th>split3_test_score</th>\n",
       "      <td>0.8825</td>\n",
       "      <td>0.9225</td>\n",
       "      <td>0.7800</td>\n",
       "      <td>0.8100</td>\n",
       "      <td>0.7275</td>\n",
       "      <td>0.7300</td>\n",
       "      <td>1.0000</td>\n",
       "      <td>1.0000</td>\n",
       "      <td>0.9975</td>\n",
       "      <td>1.0000</td>\n",
       "    </tr>\n",
       "    <tr>\n",
       "      <th>split4_test_score</th>\n",
       "      <td>0.8600</td>\n",
       "      <td>0.9050</td>\n",
       "      <td>0.7975</td>\n",
       "      <td>0.7875</td>\n",
       "      <td>0.7200</td>\n",
       "      <td>0.8300</td>\n",
       "      <td>1.0000</td>\n",
       "      <td>0.9950</td>\n",
       "      <td>0.9925</td>\n",
       "      <td>0.9950</td>\n",
       "    </tr>\n",
       "  </tbody>\n",
       "</table>\n",
       "</div>"
      ],
      "text/plain": [
       "                   nb cvec  nb tvec  rf cvec  rf tvec  et cvec  et tvec  \\\n",
       "split0_test_score   0.8550   0.8875   0.8050   0.7725   0.7800   0.7625   \n",
       "split1_test_score   0.8675   0.9125   0.7600   0.8050   0.7500   0.8225   \n",
       "split2_test_score   0.8525   0.8975   0.7825   0.8375   0.8025   0.8250   \n",
       "split3_test_score   0.8825   0.9225   0.7800   0.8100   0.7275   0.7300   \n",
       "split4_test_score   0.8600   0.9050   0.7975   0.7875   0.7200   0.8300   \n",
       "\n",
       "                   knn cvec  knn tvec  logr cvec  logr tvec  \n",
       "split0_test_score    0.9950    0.9925     0.9875     0.9900  \n",
       "split1_test_score    0.9975    1.0000     0.9925     1.0000  \n",
       "split2_test_score    1.0000    1.0000     0.9925     0.9975  \n",
       "split3_test_score    1.0000    1.0000     0.9975     1.0000  \n",
       "split4_test_score    1.0000    0.9950     0.9925     0.9950  "
      ]
     },
     "execution_count": 29,
     "metadata": {},
     "output_type": "execute_result"
    }
   ],
   "source": [
    "best_tests_1000_comments"
   ]
  },
  {
   "cell_type": "code",
   "execution_count": 30,
   "metadata": {},
   "outputs": [
    {
     "data": {
      "text/html": [
       "<div>\n",
       "<style scoped>\n",
       "    .dataframe tbody tr th:only-of-type {\n",
       "        vertical-align: middle;\n",
       "    }\n",
       "\n",
       "    .dataframe tbody tr th {\n",
       "        vertical-align: top;\n",
       "    }\n",
       "\n",
       "    .dataframe thead th {\n",
       "        text-align: right;\n",
       "    }\n",
       "</style>\n",
       "<table border=\"1\" class=\"dataframe\">\n",
       "  <thead>\n",
       "    <tr style=\"text-align: right;\">\n",
       "      <th></th>\n",
       "      <th>nb cvec</th>\n",
       "      <th>nb tvec</th>\n",
       "      <th>rf cvec</th>\n",
       "      <th>rf tvec</th>\n",
       "      <th>et cvec</th>\n",
       "      <th>et tvec</th>\n",
       "      <th>knn cvec</th>\n",
       "      <th>knn tvec</th>\n",
       "      <th>logr cvec</th>\n",
       "      <th>logr tvec</th>\n",
       "    </tr>\n",
       "  </thead>\n",
       "  <tbody>\n",
       "    <tr>\n",
       "      <th>split0_test_score</th>\n",
       "      <td>0.869</td>\n",
       "      <td>0.910</td>\n",
       "      <td>0.739</td>\n",
       "      <td>0.805</td>\n",
       "      <td>0.783</td>\n",
       "      <td>0.904</td>\n",
       "      <td>0.991</td>\n",
       "      <td>0.996</td>\n",
       "      <td>0.994</td>\n",
       "      <td>0.996</td>\n",
       "    </tr>\n",
       "    <tr>\n",
       "      <th>split1_test_score</th>\n",
       "      <td>0.873</td>\n",
       "      <td>0.912</td>\n",
       "      <td>0.764</td>\n",
       "      <td>0.804</td>\n",
       "      <td>0.733</td>\n",
       "      <td>0.820</td>\n",
       "      <td>0.995</td>\n",
       "      <td>0.999</td>\n",
       "      <td>0.998</td>\n",
       "      <td>0.998</td>\n",
       "    </tr>\n",
       "    <tr>\n",
       "      <th>split2_test_score</th>\n",
       "      <td>0.880</td>\n",
       "      <td>0.926</td>\n",
       "      <td>0.777</td>\n",
       "      <td>0.759</td>\n",
       "      <td>0.726</td>\n",
       "      <td>0.838</td>\n",
       "      <td>0.995</td>\n",
       "      <td>1.000</td>\n",
       "      <td>0.998</td>\n",
       "      <td>1.000</td>\n",
       "    </tr>\n",
       "    <tr>\n",
       "      <th>split3_test_score</th>\n",
       "      <td>0.893</td>\n",
       "      <td>0.934</td>\n",
       "      <td>0.838</td>\n",
       "      <td>0.825</td>\n",
       "      <td>0.752</td>\n",
       "      <td>0.797</td>\n",
       "      <td>0.987</td>\n",
       "      <td>0.993</td>\n",
       "      <td>0.989</td>\n",
       "      <td>0.994</td>\n",
       "    </tr>\n",
       "    <tr>\n",
       "      <th>split4_test_score</th>\n",
       "      <td>0.880</td>\n",
       "      <td>0.926</td>\n",
       "      <td>0.867</td>\n",
       "      <td>0.826</td>\n",
       "      <td>0.753</td>\n",
       "      <td>0.886</td>\n",
       "      <td>0.998</td>\n",
       "      <td>0.997</td>\n",
       "      <td>0.999</td>\n",
       "      <td>0.999</td>\n",
       "    </tr>\n",
       "  </tbody>\n",
       "</table>\n",
       "</div>"
      ],
      "text/plain": [
       "                   nb cvec  nb tvec  rf cvec  rf tvec  et cvec  et tvec  \\\n",
       "split0_test_score    0.869    0.910    0.739    0.805    0.783    0.904   \n",
       "split1_test_score    0.873    0.912    0.764    0.804    0.733    0.820   \n",
       "split2_test_score    0.880    0.926    0.777    0.759    0.726    0.838   \n",
       "split3_test_score    0.893    0.934    0.838    0.825    0.752    0.797   \n",
       "split4_test_score    0.880    0.926    0.867    0.826    0.753    0.886   \n",
       "\n",
       "                   knn cvec  knn tvec  logr cvec  logr tvec  \n",
       "split0_test_score     0.991     0.996      0.994      0.996  \n",
       "split1_test_score     0.995     0.999      0.998      0.998  \n",
       "split2_test_score     0.995     1.000      0.998      1.000  \n",
       "split3_test_score     0.987     0.993      0.989      0.994  \n",
       "split4_test_score     0.998     0.997      0.999      0.999  "
      ]
     },
     "execution_count": 30,
     "metadata": {},
     "output_type": "execute_result"
    }
   ],
   "source": [
    "best_tests_2500_comments"
   ]
  },
  {
   "cell_type": "code",
   "execution_count": 31,
   "metadata": {},
   "outputs": [
    {
     "data": {
      "text/html": [
       "<div>\n",
       "<style scoped>\n",
       "    .dataframe tbody tr th:only-of-type {\n",
       "        vertical-align: middle;\n",
       "    }\n",
       "\n",
       "    .dataframe tbody tr th {\n",
       "        vertical-align: top;\n",
       "    }\n",
       "\n",
       "    .dataframe thead th {\n",
       "        text-align: right;\n",
       "    }\n",
       "</style>\n",
       "<table border=\"1\" class=\"dataframe\">\n",
       "  <thead>\n",
       "    <tr style=\"text-align: right;\">\n",
       "      <th></th>\n",
       "      <th>nb cvec</th>\n",
       "      <th>nb tvec</th>\n",
       "      <th>rf cvec</th>\n",
       "      <th>rf tvec</th>\n",
       "      <th>et cvec</th>\n",
       "      <th>et tvec</th>\n",
       "      <th>knn cvec</th>\n",
       "      <th>knn tvec</th>\n",
       "      <th>logr cvec</th>\n",
       "      <th>logr tvec</th>\n",
       "    </tr>\n",
       "  </thead>\n",
       "  <tbody>\n",
       "    <tr>\n",
       "      <th>split0_test_score</th>\n",
       "      <td>0.8755</td>\n",
       "      <td>0.9140</td>\n",
       "      <td>0.8405</td>\n",
       "      <td>0.8040</td>\n",
       "      <td>0.8430</td>\n",
       "      <td>0.8610</td>\n",
       "      <td>0.9935</td>\n",
       "      <td>0.9980</td>\n",
       "      <td>0.9965</td>\n",
       "      <td>0.9990</td>\n",
       "    </tr>\n",
       "    <tr>\n",
       "      <th>split1_test_score</th>\n",
       "      <td>0.8875</td>\n",
       "      <td>0.9315</td>\n",
       "      <td>0.7995</td>\n",
       "      <td>0.7795</td>\n",
       "      <td>0.7770</td>\n",
       "      <td>0.8630</td>\n",
       "      <td>0.9920</td>\n",
       "      <td>0.9985</td>\n",
       "      <td>0.9950</td>\n",
       "      <td>0.9985</td>\n",
       "    </tr>\n",
       "    <tr>\n",
       "      <th>split2_test_score</th>\n",
       "      <td>0.8855</td>\n",
       "      <td>0.9260</td>\n",
       "      <td>0.8030</td>\n",
       "      <td>0.8025</td>\n",
       "      <td>0.7390</td>\n",
       "      <td>0.8620</td>\n",
       "      <td>0.9960</td>\n",
       "      <td>0.9975</td>\n",
       "      <td>0.9975</td>\n",
       "      <td>0.9980</td>\n",
       "    </tr>\n",
       "    <tr>\n",
       "      <th>split3_test_score</th>\n",
       "      <td>0.8740</td>\n",
       "      <td>0.9175</td>\n",
       "      <td>0.7705</td>\n",
       "      <td>0.8250</td>\n",
       "      <td>0.7475</td>\n",
       "      <td>0.9030</td>\n",
       "      <td>0.9935</td>\n",
       "      <td>0.9965</td>\n",
       "      <td>0.9965</td>\n",
       "      <td>0.9980</td>\n",
       "    </tr>\n",
       "    <tr>\n",
       "      <th>split4_test_score</th>\n",
       "      <td>0.8765</td>\n",
       "      <td>0.9145</td>\n",
       "      <td>0.7740</td>\n",
       "      <td>0.8225</td>\n",
       "      <td>0.7065</td>\n",
       "      <td>0.8645</td>\n",
       "      <td>0.9900</td>\n",
       "      <td>0.9945</td>\n",
       "      <td>0.9920</td>\n",
       "      <td>0.9960</td>\n",
       "    </tr>\n",
       "  </tbody>\n",
       "</table>\n",
       "</div>"
      ],
      "text/plain": [
       "                   nb cvec  nb tvec  rf cvec  rf tvec  et cvec  et tvec  \\\n",
       "split0_test_score   0.8755   0.9140   0.8405   0.8040   0.8430   0.8610   \n",
       "split1_test_score   0.8875   0.9315   0.7995   0.7795   0.7770   0.8630   \n",
       "split2_test_score   0.8855   0.9260   0.8030   0.8025   0.7390   0.8620   \n",
       "split3_test_score   0.8740   0.9175   0.7705   0.8250   0.7475   0.9030   \n",
       "split4_test_score   0.8765   0.9145   0.7740   0.8225   0.7065   0.8645   \n",
       "\n",
       "                   knn cvec  knn tvec  logr cvec  logr tvec  \n",
       "split0_test_score    0.9935    0.9980     0.9965     0.9990  \n",
       "split1_test_score    0.9920    0.9985     0.9950     0.9985  \n",
       "split2_test_score    0.9960    0.9975     0.9975     0.9980  \n",
       "split3_test_score    0.9935    0.9965     0.9965     0.9980  \n",
       "split4_test_score    0.9900    0.9945     0.9920     0.9960  "
      ]
     },
     "execution_count": 31,
     "metadata": {},
     "output_type": "execute_result"
    }
   ],
   "source": [
    "best_tests_5000_comments"
   ]
  },
  {
   "cell_type": "code",
   "execution_count": 32,
   "metadata": {},
   "outputs": [
    {
     "data": {
      "text/html": [
       "<div>\n",
       "<style scoped>\n",
       "    .dataframe tbody tr th:only-of-type {\n",
       "        vertical-align: middle;\n",
       "    }\n",
       "\n",
       "    .dataframe tbody tr th {\n",
       "        vertical-align: top;\n",
       "    }\n",
       "\n",
       "    .dataframe thead th {\n",
       "        text-align: right;\n",
       "    }\n",
       "</style>\n",
       "<table border=\"1\" class=\"dataframe\">\n",
       "  <thead>\n",
       "    <tr style=\"text-align: right;\">\n",
       "      <th></th>\n",
       "      <th>nb cvec</th>\n",
       "      <th>nb tvec</th>\n",
       "      <th>rf cvec</th>\n",
       "      <th>rf tvec</th>\n",
       "      <th>et cvec</th>\n",
       "      <th>et tvec</th>\n",
       "      <th>knn cvec</th>\n",
       "      <th>knn tvec</th>\n",
       "      <th>logr cvec</th>\n",
       "      <th>logr tvec</th>\n",
       "    </tr>\n",
       "  </thead>\n",
       "  <tbody>\n",
       "    <tr>\n",
       "      <th>split0_test_score</th>\n",
       "      <td>0.950777</td>\n",
       "      <td>0.991577</td>\n",
       "      <td>0.767307</td>\n",
       "      <td>0.795736</td>\n",
       "      <td>0.725981</td>\n",
       "      <td>0.753093</td>\n",
       "      <td>0.993946</td>\n",
       "      <td>0.998947</td>\n",
       "      <td>0.996841</td>\n",
       "      <td>0.998684</td>\n",
       "    </tr>\n",
       "    <tr>\n",
       "      <th>split1_test_score</th>\n",
       "      <td>0.951040</td>\n",
       "      <td>0.990261</td>\n",
       "      <td>0.789418</td>\n",
       "      <td>0.788365</td>\n",
       "      <td>0.704922</td>\n",
       "      <td>0.779416</td>\n",
       "      <td>0.995525</td>\n",
       "      <td>0.997894</td>\n",
       "      <td>0.998157</td>\n",
       "      <td>0.998421</td>\n",
       "    </tr>\n",
       "    <tr>\n",
       "      <th>split2_test_score</th>\n",
       "      <td>0.952080</td>\n",
       "      <td>0.989205</td>\n",
       "      <td>0.767773</td>\n",
       "      <td>0.738020</td>\n",
       "      <td>0.745919</td>\n",
       "      <td>0.833333</td>\n",
       "      <td>0.989995</td>\n",
       "      <td>0.996051</td>\n",
       "      <td>0.993944</td>\n",
       "      <td>0.997367</td>\n",
       "    </tr>\n",
       "    <tr>\n",
       "      <th>split3_test_score</th>\n",
       "      <td>0.950764</td>\n",
       "      <td>0.992364</td>\n",
       "      <td>0.789363</td>\n",
       "      <td>0.822801</td>\n",
       "      <td>0.747235</td>\n",
       "      <td>0.824381</td>\n",
       "      <td>0.994997</td>\n",
       "      <td>0.997894</td>\n",
       "      <td>0.997630</td>\n",
       "      <td>0.998420</td>\n",
       "    </tr>\n",
       "    <tr>\n",
       "      <th>split4_test_score</th>\n",
       "      <td>0.951553</td>\n",
       "      <td>0.989205</td>\n",
       "      <td>0.767773</td>\n",
       "      <td>0.785940</td>\n",
       "      <td>0.726172</td>\n",
       "      <td>0.779094</td>\n",
       "      <td>0.991838</td>\n",
       "      <td>0.995261</td>\n",
       "      <td>0.994207</td>\n",
       "      <td>0.996314</td>\n",
       "    </tr>\n",
       "  </tbody>\n",
       "</table>\n",
       "</div>"
      ],
      "text/plain": [
       "                    nb cvec   nb tvec   rf cvec   rf tvec   et cvec   et tvec  \\\n",
       "split0_test_score  0.950777  0.991577  0.767307  0.795736  0.725981  0.753093   \n",
       "split1_test_score  0.951040  0.990261  0.789418  0.788365  0.704922  0.779416   \n",
       "split2_test_score  0.952080  0.989205  0.767773  0.738020  0.745919  0.833333   \n",
       "split3_test_score  0.950764  0.992364  0.789363  0.822801  0.747235  0.824381   \n",
       "split4_test_score  0.951553  0.989205  0.767773  0.785940  0.726172  0.779094   \n",
       "\n",
       "                   knn cvec  knn tvec  logr cvec  logr tvec  \n",
       "split0_test_score  0.993946  0.998947   0.996841   0.998684  \n",
       "split1_test_score  0.995525  0.997894   0.998157   0.998421  \n",
       "split2_test_score  0.989995  0.996051   0.993944   0.997367  \n",
       "split3_test_score  0.994997  0.997894   0.997630   0.998420  \n",
       "split4_test_score  0.991838  0.995261   0.994207   0.996314  "
      ]
     },
     "execution_count": 32,
     "metadata": {},
     "output_type": "execute_result"
    }
   ],
   "source": [
    "best_tests_10000_comments"
   ]
  },
  {
   "cell_type": "code",
   "execution_count": 33,
   "metadata": {},
   "outputs": [
    {
     "data": {
      "image/png": "[encoded data removed]",
      "text/plain": [
       "<Figure size 432x288 with 1 Axes>"
      ]
     },
     "metadata": {
      "needs_background": "light"
     },
     "output_type": "display_data"
    }
   ],
   "source": [
    "# plot top 1000 comments model scores\n",
    "ax1 = best_tests_1000_comments.plot(\n",
    "    y = 'nb cvec', \n",
    "    color = 'r', \n",
    "    label = 'nb cvec'\n",
    ")    \n",
    "ax2 = best_tests_1000_comments.plot(\n",
    "    y = 'nb tvec', \n",
    "    color = 'g', \n",
    "    ax=ax1,\n",
    "    label = 'nb tvec'\n",
    ")    \n",
    "ax3 = best_tests_1000_comments.plot(\n",
    "    y = 'rf cvec', \n",
    "    color = 'b', \n",
    "    ax = ax1,\n",
    "    label = 'rf cvec'\n",
    ")\n",
    "ax4 = best_tests_1000_comments.plot(\n",
    "    y = 'rf tvec', \n",
    "    color = 'purple', \n",
    "    ax=ax1,\n",
    "    label = 'rf tvec'\n",
    ")    \n",
    "ax5 = best_tests_1000_comments.plot(\n",
    "    y = 'et cvec', \n",
    "    color = 'pink', \n",
    "    ax=ax1,\n",
    "    label = 'et cvec'\n",
    ")    \n",
    "ax6 = best_tests_1000_comments.plot(\n",
    "    y = 'et tvec', \n",
    "    color = 'dodgerblue', \n",
    "    ax = ax1,\n",
    "    label = 'et tvec'\n",
    ")\n",
    "ax7 = best_tests_1000_comments.plot(\n",
    "    y = 'knn cvec', \n",
    "    color = 'brown', \n",
    "    ax=ax1,\n",
    "    label = 'knn cvec'\n",
    ")    \n",
    "ax8 = best_tests_1000_comments.plot(\n",
    "    y = 'knn tvec', \n",
    "    color = 'deepskyblue', \n",
    "    ax=ax1,\n",
    "    label = 'knn tvec'\n",
    ")    \n",
    "ax9 = best_tests_1000_comments.plot(\n",
    "    y = 'logr cvec', \n",
    "    color = 'cyan', \n",
    "    ax = ax1,\n",
    "    label = 'logr cvec'\n",
    ")\n",
    "ax10 = best_tests_1000_comments.plot(\n",
    "    y = 'logr tvec', \n",
    "    color = 'darkblue', \n",
    "    ax = ax1,\n",
    "    label = 'logr tvec'\n",
    ")\n",
    "\n",
    "plt.legend(bbox_to_anchor = (1.05, 1))\n",
    "positions = (0,1,2,3,4)\n",
    "labels = ('Test 1','Test 2','Test 3','Test 4','Test 5')\n",
    "plt.xticks(positions,labels)\n",
    "plt.xlabel('CV Test Number')\n",
    "plt.ylabel('Test Score')\n",
    "plt.title('Top Scores from 1,000 Comments Models');"
   ]
  },
  {
   "cell_type": "code",
   "execution_count": 34,
   "metadata": {
    "scrolled": true
   },
   "outputs": [
    {
     "data": {
      "image/png": "[encoded data removed]",
      "text/plain": [
       "<Figure size 432x288 with 1 Axes>"
      ]
     },
     "metadata": {
      "needs_background": "light"
     },
     "output_type": "display_data"
    }
   ],
   "source": [
    "# plot top 2500 comments model scores\n",
    "ax1 = best_tests_2500_comments.plot(\n",
    "    y = 'nb cvec', \n",
    "    color = 'r', \n",
    "    label = 'nb cvec'\n",
    ")    \n",
    "ax2 = best_tests_2500_comments.plot(\n",
    "    y = 'nb tvec', \n",
    "    color = 'g', \n",
    "    ax=ax1,\n",
    "    label = 'nb tvec'\n",
    ")    \n",
    "ax3 = best_tests_2500_comments.plot(\n",
    "    y = 'rf cvec', \n",
    "    color = 'b', \n",
    "    ax = ax1,\n",
    "    label = 'rf cvec'\n",
    ")\n",
    "ax4 = best_tests_2500_comments.plot(\n",
    "    y = 'rf tvec', \n",
    "    color = 'purple', \n",
    "    ax=ax1,\n",
    "    label = 'rf tvec'\n",
    ")    \n",
    "ax5 = best_tests_2500_comments.plot(\n",
    "    y = 'et cvec', \n",
    "    color = 'pink', \n",
    "    ax=ax1,\n",
    "    label = 'et cvec'\n",
    ")    \n",
    "ax6 = best_tests_2500_comments.plot(\n",
    "    y = 'et tvec', \n",
    "    color = 'dodgerblue', \n",
    "    ax = ax1,\n",
    "    label = 'et tvec'\n",
    ")\n",
    "ax7 = best_tests_2500_comments.plot(\n",
    "    y = 'knn cvec', \n",
    "    color = 'brown', \n",
    "    ax=ax1,\n",
    "    label = 'knn cvec'\n",
    ")    \n",
    "ax8 = best_tests_2500_comments.plot(\n",
    "    y = 'knn tvec', \n",
    "    color = 'deepskyblue', \n",
    "    ax=ax1,\n",
    "    label = 'knn tvec'\n",
    ")    \n",
    "ax9 = best_tests_2500_comments.plot(\n",
    "    y = 'logr cvec', \n",
    "    color = 'cyan', \n",
    "    ax = ax1,\n",
    "    label = 'logr cvec'\n",
    ")\n",
    "ax10 = best_tests_2500_comments.plot(\n",
    "    y = 'logr tvec', \n",
    "    color = 'darkblue', \n",
    "    ax = ax1,\n",
    "    label = 'logr tvec'\n",
    ")\n",
    "\n",
    "plt.legend(bbox_to_anchor = (1.05, 1))\n",
    "positions = (0,1,2,3,4)\n",
    "labels = ('Test 1','Test 2','Test 3','Test 4','Test 5')\n",
    "plt.xticks(positions,labels)\n",
    "plt.xlabel('CV Test Number')\n",
    "plt.ylabel('Test Score')\n",
    "plt.title('Top Scores from 2,500 Comments Models');"
   ]
  },
  {
   "cell_type": "code",
   "execution_count": 35,
   "metadata": {},
   "outputs": [
    {
     "data": {
      "image/png": "[encoded data removed]",
      "text/plain": [
       "<Figure size 432x288 with 1 Axes>"
      ]
     },
     "metadata": {
      "needs_background": "light"
     },
     "output_type": "display_data"
    }
   ],
   "source": [
    "# plot top 5000 comments model scores\n",
    "ax1 = best_tests_5000_comments.plot(\n",
    "    y = 'nb cvec', \n",
    "    color = 'r', \n",
    "    label = 'nb cvec'\n",
    ")    \n",
    "ax2 = best_tests_5000_comments.plot(\n",
    "    y = 'nb tvec', \n",
    "    color = 'g', \n",
    "    ax=ax1,\n",
    "    label = 'nb tvec'\n",
    ")    \n",
    "ax3 = best_tests_5000_comments.plot(\n",
    "    y = 'rf cvec', \n",
    "    color = 'b', \n",
    "    ax = ax1,\n",
    "    label = 'rf cvec'\n",
    ")\n",
    "ax4 = best_tests_5000_comments.plot(\n",
    "    y = 'rf tvec', \n",
    "    color = 'purple', \n",
    "    ax=ax1,\n",
    "    label = 'rf tvec'\n",
    ")    \n",
    "ax5 = best_tests_5000_comments.plot(\n",
    "    y = 'et cvec', \n",
    "    color = 'pink', \n",
    "    ax=ax1,\n",
    "    label = 'et cvec'\n",
    ")    \n",
    "ax6 = best_tests_5000_comments.plot(\n",
    "    y = 'et tvec', \n",
    "    color = 'dodgerblue', \n",
    "    ax = ax1,\n",
    "    label = 'et tvec'\n",
    ")\n",
    "ax7 = best_tests_5000_comments.plot(\n",
    "    y = 'knn cvec', \n",
    "    color = 'brown', \n",
    "    ax=ax1,\n",
    "    label = 'knn cvec'\n",
    ")    \n",
    "ax8 = best_tests_5000_comments.plot(\n",
    "    y = 'knn tvec', \n",
    "    color = 'deepskyblue', \n",
    "    ax=ax1,\n",
    "    label = 'knn tvec'\n",
    ")    \n",
    "ax9 = best_tests_5000_comments.plot(\n",
    "    y = 'logr cvec', \n",
    "    color = 'cyan', \n",
    "    ax = ax1,\n",
    "    label = 'logr cvec'\n",
    ")\n",
    "ax10 = best_tests_5000_comments.plot(\n",
    "    y = 'logr tvec', \n",
    "    color = 'darkblue', \n",
    "    ax = ax1,\n",
    "    label = 'logr tvec'\n",
    ")\n",
    "\n",
    "plt.legend(bbox_to_anchor = (1.05, 1))\n",
    "positions = (0,1,2,3,4)\n",
    "labels = ('Test 1','Test 2','Test 3','Test 4','Test 5')\n",
    "plt.xticks(positions,labels)\n",
    "plt.xlabel('CV Test Number')\n",
    "plt.ylabel('Test Score')\n",
    "plt.title('Top Scores from 5,000 Comments Models');"
   ]
  },
  {
   "cell_type": "code",
   "execution_count": 36,
   "metadata": {},
   "outputs": [
    {
     "data": {
      "image/png": "[encoded data removed]",
      "text/plain": [
       "<Figure size 432x288 with 1 Axes>"
      ]
     },
     "metadata": {
      "needs_background": "light"
     },
     "output_type": "display_data"
    }
   ],
   "source": [
    "# plot top 10000 comments model scores\n",
    "ax1 = best_tests_10000_comments.plot(\n",
    "    y = 'nb cvec', \n",
    "    color = 'r', \n",
    "    label = 'nb cvec'\n",
    ")    \n",
    "ax2 = best_tests_10000_comments.plot(\n",
    "    y = 'nb tvec', \n",
    "    color = 'g', \n",
    "    ax=ax1,\n",
    "    label = 'nb tvec'\n",
    ")    \n",
    "ax3 = best_tests_10000_comments.plot(\n",
    "    y = 'rf cvec', \n",
    "    color = 'b', \n",
    "    ax = ax1,\n",
    "    label = 'rf cvec'\n",
    ")\n",
    "ax4 = best_tests_10000_comments.plot(\n",
    "    y = 'rf tvec', \n",
    "    color = 'purple', \n",
    "    ax=ax1,\n",
    "    label = 'rf tvec'\n",
    ")    \n",
    "ax5 = best_tests_10000_comments.plot(\n",
    "    y = 'et cvec', \n",
    "    color = 'pink', \n",
    "    ax=ax1,\n",
    "    label = 'et cvec'\n",
    ")    \n",
    "ax6 = best_tests_10000_comments.plot(\n",
    "    y = 'et tvec', \n",
    "    color = 'dodgerblue', \n",
    "    ax = ax1,\n",
    "    label = 'et tvec'\n",
    ")\n",
    "ax7 = best_tests_10000_comments.plot(\n",
    "    y = 'knn cvec', \n",
    "    color = 'brown', \n",
    "    ax=ax1,\n",
    "    label = 'knn cvec'\n",
    ")    \n",
    "ax8 = best_tests_10000_comments.plot(\n",
    "    y = 'knn tvec', \n",
    "    color = 'deepskyblue', \n",
    "    ax=ax1,\n",
    "    label = 'knn tvec'\n",
    ")    \n",
    "ax9 = best_tests_10000_comments.plot(\n",
    "    y = 'logr cvec', \n",
    "    color = 'cyan', \n",
    "    ax = ax1,\n",
    "    label = 'logr cvec'\n",
    ")\n",
    "ax10 = best_tests_10000_comments.plot(\n",
    "    y = 'logr tvec', \n",
    "    color = 'darkblue', \n",
    "    ax = ax1,\n",
    "    label = 'logr tvec'\n",
    ")\n",
    "\n",
    "plt.legend(bbox_to_anchor = (1.05, 1))\n",
    "positions = (0,1,2,3,4)\n",
    "labels = ('Test 1','Test 2','Test 3','Test 4','Test 5')\n",
    "plt.xticks(positions,labels)\n",
    "plt.xlabel('CV Test Number')\n",
    "plt.ylabel('Test Score')\n",
    "plt.title('Top Scores from 10,000 Comments Models');"
   ]
  },
  {
   "cell_type": "markdown",
   "metadata": {},
   "source": [
    "## Top Scores"
   ]
  },
  {
   "cell_type": "code",
   "execution_count": 37,
   "metadata": {},
   "outputs": [
    {
     "data": {
      "image/png": "[encoded data removed]",
      "text/plain": [
       "<Figure size 432x288 with 1 Axes>"
      ]
     },
     "metadata": {
      "needs_background": "light"
     },
     "output_type": "display_data"
    }
   ],
   "source": [
    "# plot top 1000 comments model scores\n",
    "best_tests_1000_comments.mean().plot(\n",
    "    kind = 'barh',\n",
    "    color = ['skyblue','lightskyblue','deepskyblue',\n",
    "             'dodgerblue','cornflowerblue','royalblue',\n",
    "             'b','mediumblue','darkblue','midnightblue']\n",
    ")\n",
    "\n",
    "plt.xlabel('Mean Score')\n",
    "plt.ylabel('Model Type')\n",
    "plt.title('Highest Mean Scores from 1000 Comments Models');"
   ]
  },
  {
   "cell_type": "code",
   "execution_count": 38,
   "metadata": {},
   "outputs": [
    {
     "data": {
      "image/png": "[encoded data removed]",
      "text/plain": [
       "<Figure size 432x288 with 1 Axes>"
      ]
     },
     "metadata": {
      "needs_background": "light"
     },
     "output_type": "display_data"
    }
   ],
   "source": [
    "# plot top 2500 comments model scores\n",
    "best_tests_2500_comments.mean().plot(\n",
    "    kind = 'barh',\n",
    "    color = ['skyblue','lightskyblue','deepskyblue',\n",
    "             'dodgerblue','cornflowerblue','royalblue',\n",
    "             'b','mediumblue','darkblue','midnightblue']\n",
    ")\n",
    "\n",
    "plt.xlabel('Mean Score')\n",
    "plt.ylabel('Model Type')\n",
    "plt.title('Highest Mean Scores from 2500 Comments Models');"
   ]
  },
  {
   "cell_type": "code",
   "execution_count": 39,
   "metadata": {},
   "outputs": [
    {
     "data": {
      "image/png": "[encoded data removed]",
      "text/plain": [
       "<Figure size 432x288 with 1 Axes>"
      ]
     },
     "metadata": {
      "needs_background": "light"
     },
     "output_type": "display_data"
    }
   ],
   "source": [
    "# plot top 5000 comments model scores\n",
    "best_tests_5000_comments.mean().plot(\n",
    "    kind = 'barh',\n",
    "    color = ['skyblue','lightskyblue','deepskyblue',\n",
    "             'dodgerblue','cornflowerblue','royalblue',\n",
    "             'b','mediumblue','darkblue','midnightblue']\n",
    ")\n",
    "\n",
    "plt.xlabel('Mean Score')\n",
    "plt.ylabel('Model Type')\n",
    "plt.title('Highest Mean Scores from 5000 Comments Models');"
   ]
  },
  {
   "cell_type": "code",
   "execution_count": 40,
   "metadata": {},
   "outputs": [
    {
     "data": {
      "image/png": "[encoded data removed]",
      "text/plain": [
       "<Figure size 432x288 with 1 Axes>"
      ]
     },
     "metadata": {
      "needs_background": "light"
     },
     "output_type": "display_data"
    }
   ],
   "source": [
    "# plot top 10000 comments model scores\n",
    "best_tests_10000_comments.mean().plot(\n",
    "    kind = 'barh',\n",
    "    color = ['skyblue','lightskyblue','deepskyblue',\n",
    "             'dodgerblue','cornflowerblue','royalblue',\n",
    "             'b','mediumblue','darkblue','midnightblue']\n",
    ")\n",
    "\n",
    "plt.xlabel('Mean Score')\n",
    "plt.ylabel('Model Type')\n",
    "plt.title('Highest Mean Scores from 10000 Comments Models');"
   ]
  },
  {
   "cell_type": "code",
   "execution_count": 41,
   "metadata": {},
   "outputs": [],
   "source": [
    "# take the top mean scores from the models\n",
    "tests_1000 = pd.DataFrame(best_tests_1000_comments.mean())\n",
    "tests_2500 = pd.DataFrame(best_tests_2500_comments.mean())\n",
    "tests_5000 = pd.DataFrame(best_tests_5000_comments.mean())\n",
    "tests_10000 = pd.DataFrame(best_tests_10000_comments.mean())"
   ]
  },
  {
   "cell_type": "code",
   "execution_count": 42,
   "metadata": {},
   "outputs": [],
   "source": [
    "tests_1000.columns = ['1000 comments']\n",
    "tests_2500.columns = ['2500 comments']\n",
    "tests_5000.columns = ['5000 comments']\n",
    "tests_10000.columns = ['10000 comments']"
   ]
  },
  {
   "cell_type": "code",
   "execution_count": 43,
   "metadata": {},
   "outputs": [],
   "source": [
    "# concatenate top tests dataframes \n",
    "tests = pd.concat([tests_1000,tests_2500,tests_5000,tests_10000],axis = 1)"
   ]
  },
  {
   "cell_type": "code",
   "execution_count": 44,
   "metadata": {},
   "outputs": [
    {
     "data": {
      "image/png": "[encoded data removed]",
      "text/plain": [
       "<Figure size 432x288 with 1 Axes>"
      ]
     },
     "metadata": {
      "needs_background": "light"
     },
     "output_type": "display_data"
    }
   ],
   "source": [
    "# plot the highest mean scores of all models\n",
    "tests.max(axis = 1).plot(\n",
    "    kind = 'barh',\n",
    "    color = ['skyblue','lightskyblue','deepskyblue',\n",
    "             'dodgerblue','cornflowerblue','royalblue',\n",
    "             'b','mediumblue','darkblue','midnightblue']\n",
    ")\n",
    "positions = (0,1,2,3,4,5,6,7,8,9)\n",
    "labels = ('nb cvec 10000','nb tvec 10000','rf cvec 5000',\n",
    "          'rf tvec 2500','et cvec 2500','et tvec 5000',\n",
    "          'knn cvec 10000','knn tvec 1000','logr cvec 5000',\n",
    "          'logr tvec 10000')\n",
    "plt.yticks(positions,labels)\n",
    "plt.xlabel('Mean Score')\n",
    "plt.ylabel('Model Type')\n",
    "plt.title('Highest Mean Scores');"
   ]
  },
  {
   "cell_type": "markdown",
   "metadata": {},
   "source": [
    "## 5000 comments"
   ]
  },
  {
   "cell_type": "code",
   "execution_count": 45,
   "metadata": {},
   "outputs": [],
   "source": [
    "# create a dataframe with 5000 snowboarding comments\n",
    "sb_5000 = sb_10000.head(5000)"
   ]
  },
  {
   "cell_type": "code",
   "execution_count": 46,
   "metadata": {},
   "outputs": [],
   "source": [
    "sb_5000.to_csv('./data/sb_comment_data_5000.csv')"
   ]
  },
  {
   "cell_type": "code",
   "execution_count": 47,
   "metadata": {},
   "outputs": [],
   "source": [
    "# create a dataframe with 5000 skiing comments\n",
    "ski_5000 = ski_10000.head(5000)"
   ]
  },
  {
   "cell_type": "code",
   "execution_count": 48,
   "metadata": {},
   "outputs": [],
   "source": [
    "ski_5000.to_csv('./data/ski_comment_data_5000.csv')"
   ]
  },
  {
   "cell_type": "code",
   "execution_count": 49,
   "metadata": {},
   "outputs": [],
   "source": [
    "# create a dataframe with 5000 snowboarding and 5000 skiing comments\n",
    "sb_v_ski_5000 = pd.concat([sb_5000,ski_5000]).reset_index(drop = True)"
   ]
  },
  {
   "cell_type": "code",
   "execution_count": 50,
   "metadata": {},
   "outputs": [],
   "source": [
    "sb_v_ski_5000.to_csv('./data/all_comment_data_5000.csv')"
   ]
  },
  {
   "cell_type": "markdown",
   "metadata": {},
   "source": [
    "## 2500 comments"
   ]
  },
  {
   "cell_type": "code",
   "execution_count": 51,
   "metadata": {},
   "outputs": [],
   "source": [
    "# create a dataframe with 2500 snowboarding comments\n",
    "sb_2500 = sb_10000.head(2500)"
   ]
  },
  {
   "cell_type": "code",
   "execution_count": 52,
   "metadata": {},
   "outputs": [],
   "source": [
    "sb_2500.to_csv('./data/sb_comment_data_2500.csv')"
   ]
  },
  {
   "cell_type": "code",
   "execution_count": 53,
   "metadata": {},
   "outputs": [],
   "source": [
    "# create a dataframe with 2500 skiing comments\n",
    "ski_2500 = ski_10000.head(2500)"
   ]
  },
  {
   "cell_type": "code",
   "execution_count": 54,
   "metadata": {},
   "outputs": [],
   "source": [
    "ski_2500.to_csv('./data/ski_comment_data_2500.csv')"
   ]
  },
  {
   "cell_type": "code",
   "execution_count": 55,
   "metadata": {},
   "outputs": [],
   "source": [
    "# create a dataframe with 2500 snowboarding and 2500 skiing comments\n",
    "sb_v_ski_2500 = pd.concat([sb_2500,ski_2500]).reset_index(drop = True)"
   ]
  },
  {
   "cell_type": "code",
   "execution_count": 56,
   "metadata": {},
   "outputs": [],
   "source": [
    "sb_v_ski_2500.to_csv('./data/all_comment_data_2500.csv')"
   ]
  },
  {
   "cell_type": "markdown",
   "metadata": {},
   "source": [
    "## 1000 comments"
   ]
  },
  {
   "cell_type": "code",
   "execution_count": 57,
   "metadata": {},
   "outputs": [],
   "source": [
    "# create a dataframe with 1000 snowboarding comments\n",
    "sb_1000 = sb_10000.head(1000)"
   ]
  },
  {
   "cell_type": "code",
   "execution_count": 58,
   "metadata": {},
   "outputs": [],
   "source": [
    "sb_1000.to_csv('./data/sb_comment_data_1000.csv')"
   ]
  },
  {
   "cell_type": "code",
   "execution_count": 59,
   "metadata": {},
   "outputs": [],
   "source": [
    "# create a dataframe with 1000 skiing comments\n",
    "ski_1000 = ski_10000.head(1000)"
   ]
  },
  {
   "cell_type": "code",
   "execution_count": 60,
   "metadata": {},
   "outputs": [],
   "source": [
    "ski_1000.to_csv('./data/ski_comment_data_1000.csv')"
   ]
  },
  {
   "cell_type": "code",
   "execution_count": 61,
   "metadata": {},
   "outputs": [],
   "source": [
    "# create a dataframe with 1000 snowboarding and 1000 skiing comments\n",
    "sb_v_ski_1000 = pd.concat([sb_1000,ski_1000]).reset_index(drop = True)"
   ]
  },
  {
   "cell_type": "code",
   "execution_count": 62,
   "metadata": {},
   "outputs": [],
   "source": [
    "sb_v_ski_1000.to_csv('./data/all_comment_data_1000.csv')"
   ]
  }
 ],
 "metadata": {
  "kernelspec": {
   "display_name": "Python 3",
   "language": "python",
   "name": "python3"
  },
  "language_info": {
   "codemirror_mode": {
    "name": "ipython",
    "version": 3
   },
   "file_extension": ".py",
   "mimetype": "text/x-python",
   "name": "python",
   "nbconvert_exporter": "python",
   "pygments_lexer": "ipython3",
   "version": "3.8.3"
  }
 },
 "nbformat": 4,
 "nbformat_minor": 4
}
